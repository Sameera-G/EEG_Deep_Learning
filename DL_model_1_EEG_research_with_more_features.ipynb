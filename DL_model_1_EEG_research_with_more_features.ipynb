{
  "cells": [
    {
      "cell_type": "markdown",
      "source": [
        "# preprocessing EEG data"
      ],
      "metadata": {
        "id": "svFPec3r22cD"
      }
    },
    {
      "cell_type": "code",
      "source": [
        "!pip install mne"
      ],
      "metadata": {
        "id": "43xuETVtrDxk",
        "colab": {
          "base_uri": "https://localhost:8080/"
        },
        "outputId": "ec1d921e-9aa7-4394-bd07-11a4e43dba6e"
      },
      "execution_count": 1,
      "outputs": [
        {
          "output_type": "stream",
          "name": "stdout",
          "text": [
            "Collecting mne\n",
            "  Downloading mne-1.7.0-py3-none-any.whl (7.4 MB)\n",
            "\u001b[2K     \u001b[90m━━━━━━━━━━━━━━━━━━━━━━━━━━━━━━━━━━━━━━━━\u001b[0m \u001b[32m7.4/7.4 MB\u001b[0m \u001b[31m20.6 MB/s\u001b[0m eta \u001b[36m0:00:00\u001b[0m\n",
            "\u001b[?25hRequirement already satisfied: decorator in /usr/local/lib/python3.10/dist-packages (from mne) (4.4.2)\n",
            "Requirement already satisfied: jinja2 in /usr/local/lib/python3.10/dist-packages (from mne) (3.1.4)\n",
            "Requirement already satisfied: lazy-loader>=0.3 in /usr/local/lib/python3.10/dist-packages (from mne) (0.4)\n",
            "Requirement already satisfied: matplotlib>=3.5.0 in /usr/local/lib/python3.10/dist-packages (from mne) (3.7.1)\n",
            "Requirement already satisfied: numpy>=1.21.2 in /usr/local/lib/python3.10/dist-packages (from mne) (1.25.2)\n",
            "Requirement already satisfied: packaging in /usr/local/lib/python3.10/dist-packages (from mne) (24.0)\n",
            "Requirement already satisfied: pooch>=1.5 in /usr/local/lib/python3.10/dist-packages (from mne) (1.8.1)\n",
            "Requirement already satisfied: scipy>=1.7.1 in /usr/local/lib/python3.10/dist-packages (from mne) (1.11.4)\n",
            "Requirement already satisfied: tqdm in /usr/local/lib/python3.10/dist-packages (from mne) (4.66.4)\n",
            "Requirement already satisfied: contourpy>=1.0.1 in /usr/local/lib/python3.10/dist-packages (from matplotlib>=3.5.0->mne) (1.2.1)\n",
            "Requirement already satisfied: cycler>=0.10 in /usr/local/lib/python3.10/dist-packages (from matplotlib>=3.5.0->mne) (0.12.1)\n",
            "Requirement already satisfied: fonttools>=4.22.0 in /usr/local/lib/python3.10/dist-packages (from matplotlib>=3.5.0->mne) (4.51.0)\n",
            "Requirement already satisfied: kiwisolver>=1.0.1 in /usr/local/lib/python3.10/dist-packages (from matplotlib>=3.5.0->mne) (1.4.5)\n",
            "Requirement already satisfied: pillow>=6.2.0 in /usr/local/lib/python3.10/dist-packages (from matplotlib>=3.5.0->mne) (9.4.0)\n",
            "Requirement already satisfied: pyparsing>=2.3.1 in /usr/local/lib/python3.10/dist-packages (from matplotlib>=3.5.0->mne) (3.1.2)\n",
            "Requirement already satisfied: python-dateutil>=2.7 in /usr/local/lib/python3.10/dist-packages (from matplotlib>=3.5.0->mne) (2.8.2)\n",
            "Requirement already satisfied: platformdirs>=2.5.0 in /usr/local/lib/python3.10/dist-packages (from pooch>=1.5->mne) (4.2.2)\n",
            "Requirement already satisfied: requests>=2.19.0 in /usr/local/lib/python3.10/dist-packages (from pooch>=1.5->mne) (2.31.0)\n",
            "Requirement already satisfied: MarkupSafe>=2.0 in /usr/local/lib/python3.10/dist-packages (from jinja2->mne) (2.1.5)\n",
            "Requirement already satisfied: six>=1.5 in /usr/local/lib/python3.10/dist-packages (from python-dateutil>=2.7->matplotlib>=3.5.0->mne) (1.16.0)\n",
            "Requirement already satisfied: charset-normalizer<4,>=2 in /usr/local/lib/python3.10/dist-packages (from requests>=2.19.0->pooch>=1.5->mne) (3.3.2)\n",
            "Requirement already satisfied: idna<4,>=2.5 in /usr/local/lib/python3.10/dist-packages (from requests>=2.19.0->pooch>=1.5->mne) (3.7)\n",
            "Requirement already satisfied: urllib3<3,>=1.21.1 in /usr/local/lib/python3.10/dist-packages (from requests>=2.19.0->pooch>=1.5->mne) (2.0.7)\n",
            "Requirement already satisfied: certifi>=2017.4.17 in /usr/local/lib/python3.10/dist-packages (from requests>=2.19.0->pooch>=1.5->mne) (2024.2.2)\n",
            "Installing collected packages: mne\n",
            "Successfully installed mne-1.7.0\n"
          ]
        }
      ]
    },
    {
      "cell_type": "code",
      "source": [
        "\"\"\"\n",
        "import os\n",
        "import mne\n",
        "import numpy as np\n",
        "import pandas as pd\n",
        "import matplotlib.pyplot as plt\n",
        "from mne.channels import make_standard_montage\n",
        "from datetime import datetime\n",
        "import firebase_admin\n",
        "from firebase_admin import credentials\n",
        "from firebase_admin import firestore\n",
        "from datetime import datetime, timezone\n",
        "import gc\n",
        "\n",
        "########################################################################################\n",
        "########################################################################################\n",
        "#Firebase initializationn\n",
        "def initialize_firebase_app():\n",
        "    # Check if the Firebase app is already initialized\n",
        "    if not firebase_admin._apps:\n",
        "        # Initialize Firebase app\n",
        "        cred = credentials.Certificate(\"firebase/wl-nasa-tlx-firebase-adminsdk-f62th-21f83967e3.json\")\n",
        "        firebase_admin.initialize_app(cred)\n",
        "    else:\n",
        "        print(\"Firebase app is already initialized.\")\n",
        "\n",
        "    return\n",
        "\n",
        "#########################################################################################\n",
        "#########################################################################################\n",
        "#Firebase - Extracting Timestamps for task timing defining\n",
        "def extract_timestamps_from_firestore(user_id):\n",
        "    # Initialize Firebase app\n",
        "    firebase_app = initialize_firebase_app()\n",
        "\n",
        "    # Get a Firestore database instance\n",
        "    db = firestore.client(firebase_app)\n",
        "\n",
        "    # Specify the collection name\n",
        "    collection_name = \"Software Engineering\"\n",
        "\n",
        "    # Get all document names in the specified collection\n",
        "    documents = db.collection(collection_name).list_documents()\n",
        "\n",
        "    # Extract timestamps from document names for the specified user\n",
        "    timestamps = []\n",
        "    for doc in documents:\n",
        "        document_name = doc.id\n",
        "        if f\"userId: {user_id}\" in document_name:\n",
        "            timestamp_start = document_name.find(\"timestamp: \") + len(\"timestamp: \")\n",
        "            timestamp_end = document_name.find(\".\")\n",
        "            timestamp = document_name[timestamp_start:timestamp_end]\n",
        "            timestamps.append(timestamp)\n",
        "    print(timestamps)\n",
        "    # Return extracted timestamps\n",
        "    return timestamps\n",
        "\n",
        "#####################################################################################################\n",
        "#####################################################################################################\n",
        "#Retriving NASA-TLX values from firebase\n",
        "def extract_nasa_tlx_firestore(collection_name, user_id):\n",
        "    # Initialize Firebase app\n",
        "    firebase_app = initialize_firebase_app()\n",
        "\n",
        "    # Get a Firestore database instance\n",
        "    db = firestore.client(firebase_app)\n",
        "\n",
        "    # List to store desired values for each document\n",
        "    desired_values = []\n",
        "\n",
        "    # Query documents in the specified collection\n",
        "    query = db.collection(collection_name).stream()\n",
        "\n",
        "    # Iterate through query results\n",
        "    for doc in query:\n",
        "        # Get the document ID\n",
        "        document_id = doc.id\n",
        "\n",
        "        # Check if the document belongs to the specified user ID\n",
        "        if f\"userId: {user_id}\" in document_id:\n",
        "            # Extract field values from the document\n",
        "            document_data = doc.to_dict().values()\n",
        "\n",
        "            # Calculate sum of all field values in the document\n",
        "            total_sum = sum(document_data)\n",
        "\n",
        "            # Calculate the average of field values\n",
        "            average_value = total_sum / 60\n",
        "\n",
        "            # Multiply the average value by 5\n",
        "            multiplied_value = average_value * 5\n",
        "\n",
        "            # Round the calculated value to the nearest decimal\n",
        "            rounded_value = round(multiplied_value, 0)\n",
        "\n",
        "            # Ensure the rounded value is within the range 1 to 5\n",
        "            if rounded_value < 1:\n",
        "                rounded_value = 1.0\n",
        "            elif rounded_value > 5:\n",
        "                rounded_value = 5\n",
        "\n",
        "            # Convert the rounded value to a string\n",
        "            rounded_value = str(rounded_value)\n",
        "\n",
        "            # Append the rounded value to the list\n",
        "            desired_values.append(rounded_value)\n",
        "\n",
        "    # Print the list of desired values\n",
        "    print(desired_values)\n",
        "\n",
        "    # Return the list of desired values\n",
        "    return desired_values\n",
        "\n",
        "\n",
        "##########################################################################\n",
        "###############################################################################\n",
        "# Function to apply filters\n",
        "def apply_filters(data, sfreq):\n",
        "    # Apply highpass filter (0.5 Hz)\n",
        "    data_filtered = mne.filter.filter_data(data, sfreq, l_freq=0.5, h_freq=None, verbose=False)\n",
        "\n",
        "    # Apply lowpass filter (80 Hz)\n",
        "    data_filtered = mne.filter.filter_data(data_filtered, sfreq, l_freq=None, h_freq=80, verbose=False)\n",
        "\n",
        "    # Apply power line interference filter (notch filter at 60 Hz)\n",
        "    data_filtered = mne.filter.notch_filter(data_filtered, sfreq, [60], verbose=False)\n",
        "\n",
        "    # Apply power line interference filter (notch filter at 50 Hz)\n",
        "    data_filtered = mne.filter.notch_filter(data_filtered, sfreq, [50], verbose=False)\n",
        "\n",
        "    # Apply bandpass filter (1 - 40 Hz)\n",
        "    data_filtered = mne.filter.filter_data(data_filtered, sfreq, l_freq=1, h_freq=40, verbose=False)\n",
        "\n",
        "    # Apply bandpass filter (1 - 40 Hz)\n",
        "    data_filtered = mne.filter.filter_data(data, sfreq, l_freq=1, h_freq=40, fir_design='firwin', verbose=False)\n",
        "\n",
        "    return data_filtered\n",
        "\n",
        "###################################################################################################\n",
        "###################################################################################################\n",
        "#Loading CSV file\n",
        "def load_and_preprocess(filepath, timestamps=None, output_dir='research_codes/signal_images'):\n",
        "    Loads EEG data from a CSV file, extracts channel names, and creates a preprocessed MNE Raw object.\n",
        "\n",
        "    Args:\n",
        "        filepath (str): Path to the CSV file containing EEG data.\n",
        "        timestamps (list of float or None): List of timestamps to define segments of data. If None, process all data.\n",
        "        output_dir (str): Directory to save the signal images.\n",
        "\n",
        "    Returns:\n",
        "        list of mne.io.Raw: List of preprocessed MNE Raw objects for each segment defined by timestamps.\n",
        "\n",
        "    # Extract file name from the file path\n",
        "    file_name = os.path.splitext(os.path.basename(filepath))[0]\n",
        "    user_id = file_name.split('-')[-1].split('_')[0]  # Extract user ID from the file name\n",
        "\n",
        "    # Load data using pandas\n",
        "    df = pd.read_csv(filepath, header=None, low_memory=False)\n",
        "\n",
        "    # Extract channel names from the second row\n",
        "    channel_names = df.iloc[1, 3:18].astype(str).tolist()  # Convert to string\n",
        "\n",
        "    # Ensure that channel_names contain at most 14 channels\n",
        "    channel_names = channel_names[:14]\n",
        "\n",
        "    # Load data from the third row onwards and from the 4th to 17th column\n",
        "    data = df.iloc[2:, 3:18].values.astype(float)\n",
        "\n",
        "    raw_list = []\n",
        "\n",
        "    if timestamps is None:\n",
        "        timestamps = [None]\n",
        "\n",
        "    data_segment = None\n",
        "\n",
        "    for idx, timestamp in enumerate(timestamps):\n",
        "        # Process data up to the specified timestamp\n",
        "        if timestamp is not None:\n",
        "            timestamps_df = df.iloc[2:, 0].values.astype(float)\n",
        "            last_index = np.argmax(timestamps_df > timestamp)\n",
        "            if last_index == 0:\n",
        "                print(f\"Specified timestamp {idx + 1} is before the first recorded data. Processing all data.\")\n",
        "            else:\n",
        "                data_segment = data[:last_index]\n",
        "                # Print Firebase and CSV timestamps at each range processed\n",
        "                print(f\"Firebase Timestamp: {timestamp}, CSV Timestamp: {df.iloc[last_index, 0]}\")\n",
        "        else:\n",
        "            data_segment = data\n",
        "\n",
        "        # Sampling frequency (adjust based on your data)\n",
        "        sampling_freq = 256\n",
        "\n",
        "        # Channel types (assuming all EEG)\n",
        "        channel_types = ['eeg'] * len(channel_names)\n",
        "\n",
        "        # Create MNE Info object\n",
        "        info = mne.create_info(ch_names=channel_names, ch_types=channel_types, sfreq=sampling_freq)\n",
        "\n",
        "        # Create RawArray\n",
        "        raw = mne.io.RawArray(data_segment.T, info)\n",
        "\n",
        "        # Apply filters\n",
        "        data_filtered = apply_filters(data_segment.T, sampling_freq)\n",
        "\n",
        "        # Create a new RawArray with the filtered data\n",
        "        raw = mne.io.RawArray(data_filtered, info)\n",
        "\n",
        "\n",
        "        # Basic filtering for removing line noise and slow drifts\n",
        "        #raw.filter(1., 40., fir_design='firwin')\n",
        "\n",
        "        raw_list.append(raw)\n",
        "\n",
        "        # Plot and save EEG signal plots for each channel\n",
        "        if not os.path.exists(output_dir):\n",
        "            os.makedirs(output_dir)\n",
        "        for channel in range(len(raw.ch_names)):\n",
        "            plt.figure()\n",
        "            plt.plot(raw._data[channel], color='blue')  # Plot EEG data for the channel\n",
        "            plt.title(f'EEG Signal for Channel {raw.ch_names[channel]}')\n",
        "            plt.xlabel('Time (samples)')\n",
        "            plt.ylabel('Amplitude')\n",
        "            plt.savefig(f'{output_dir}/signal_{file_name}_{idx+1}_{raw.ch_names[channel]}.png')\n",
        "            plt.close()\n",
        "\n",
        "    return raw_list\n",
        "\n",
        "######################################################################################################\n",
        "######################################################################################################\n",
        "#Applying Apply Independent Component Analysis (ICA) for artifact removal.\n",
        "def apply_ica(raw_list):\n",
        "    ica_list = []\n",
        "    for raw in raw_list:\n",
        "        # Initialize ICA\n",
        "        ica = mne.preprocessing.ICA(n_components=len(raw.ch_names), random_state=42)\n",
        "\n",
        "        # Fit ICA\n",
        "        ica.fit(raw)\n",
        "\n",
        "        ica_list.append(ica)\n",
        "\n",
        "    return ica_list\n",
        "\n",
        "######################################################################################################\n",
        "######################################################################################################\n",
        "#Calculates Power Spectral Density (PSD) using the psd_array_welch method.\n",
        "def calculate_psd(raw_list, ica_list):\n",
        "  psds_list = []\n",
        "  freqs_list = []\n",
        "  for raw, ica in zip(raw_list, ica_list):\n",
        "    # Apply ICA to remove artifact components\n",
        "    raw_ica = ica.apply(raw.copy())\n",
        "    # Define frequency range of interest\n",
        "    fmin, fmax = 1., 40.\n",
        "    # Get sampling frequency from Raw object\n",
        "    sfreq = raw.info['sfreq']\n",
        "    # Compute PSD using psd_array_welch with sfreq argument\n",
        "    psds, freqs = mne.time_frequency.psd_array_welch(raw_ica.get_data(), sfreq=sfreq, fmin=fmin, fmax=fmax, n_fft=2048)\n",
        "    psds = 10. * np.log10(psds)  # Convert power to dB\n",
        "    psds_list.append(psds)\n",
        "    freqs_list.append(freqs)\n",
        "  return psds_list, freqs_list\n",
        "\n",
        "####################################################################################################\n",
        "####################################################################################################\n",
        "#Generates combined PSD images with colormaps, line plots, and contrasting backgrounds.\n",
        "def psd_to_image(psds_list, freqs_list, channel_names, csv_name, timestamps, nasa_tlx_values_list,output_dir='research_codes/psd_images_combined'):\n",
        "    if not os.path.exists(output_dir):\n",
        "        os.makedirs(output_dir)\n",
        "    j = 1\n",
        "    for idx, (psds, freqs) in enumerate(zip(psds_list, freqs_list)):\n",
        "        timestamp = timestamps[idx]\n",
        "        nasa_tlx_value = nasa_tlx_values_list[idx]\n",
        "        folder_name = nasa_tlx_value\n",
        "        folder_path = os.path.join(output_dir, folder_name)\n",
        "        if not os.path.exists(folder_path):\n",
        "            os.makedirs(folder_path)\n",
        "        j = j + 1\n",
        "        k = 1\n",
        "        for i, channel_name in enumerate(channel_names):\n",
        "            # Create the plot\n",
        "            fig, ax = plt.subplots()\n",
        "\n",
        "            # Plot PSD with hot colormap\n",
        "            im = ax.imshow(\n",
        "                psds[i][:, np.newaxis].T,\n",
        "                extent=[freqs[0], freqs[-1], 0, psds[i].max()],\n",
        "                cmap='Spectral_r',\n",
        "                aspect='auto',\n",
        "                origin='lower',\n",
        "                vmin=psds[i].min(),\n",
        "                vmax=psds[i].max()\n",
        "            )\n",
        "\n",
        "            # Add line plot on top of the colormap\n",
        "            ax.plot(freqs, psds[i], color='black', linewidth=2)  # Adjust line style as desired\n",
        "\n",
        "            # Customize labels and title\n",
        "            ax.set_xlabel('Frequency (Hz)')\n",
        "            ax.set_ylabel('Power Spectral Density (dB)')\n",
        "            ax.set_title(f'PSD: {channel_name}')\n",
        "\n",
        "            # Add colorbar using the mappable object (imshow)\n",
        "            plt.colorbar(im, ax=ax, label='Power Spectral Density (dB)')\n",
        "            k = k + 1\n",
        "            # Save the image\n",
        "            plt.savefig(os.path.join(folder_path, f'psd{csv_name}_{folder_name}_{channel_name}_{j}_{k}.png'))\n",
        "            plt.close()\n",
        "\n",
        "########################################################################################################\n",
        "########################################################################################################\n",
        "# Function to convert a timestamp string to Unix timestamp because the CSV file has this type\n",
        "def convert_to_unix(timestamp_str):\n",
        "    # Convert timestamp string to datetime object\n",
        "    timestamp_dt = datetime.strptime(timestamp_str, \"%Y-%m-%d %H:%M:%S\")\n",
        "    # Convert datetime object to Unix timestamp (seconds since the epoch)\n",
        "    timestamp_unix = int(timestamp_dt.timestamp())\n",
        "    return timestamp_unix\n",
        "#######################################################################################################\n",
        "#######################################################################################################\n",
        "\n",
        "#######################################################################################################\n",
        "###Inmplementation###\n",
        "#######################################################################################################\n",
        "#Extracting Self Recorded NASA-TLX Workload data from firebase\n",
        "collection_name = \"Software Engineering\"\n",
        "\n",
        "# Loading the CSV file\n",
        "filepaths = ['MWR-24-4_EEG.csv']\n",
        "# Names for saving the images\n",
        "# Iterate over each CSV file\n",
        "for filepath in filepaths:\n",
        "    # Extract the user ID from the file name\n",
        "    user_id = os.path.splitext(os.path.basename(filepath))[0].split('-')[-1].split('_')[0]\n",
        "    print(\"#################################################################\")\n",
        "    print(filepath)\n",
        "    # Call the function to get the timestamps for the specific user\n",
        "    timestamps = extract_timestamps_from_firestore(user_id)\n",
        "\n",
        "    # Convert each timestamp to Unix timestamp and store in a list\n",
        "    timestamps_unix = []\n",
        "    for timestamp in timestamps:\n",
        "        timestamp_unix = convert_to_unix(timestamp)\n",
        "        timestamp_unix = timestamp_unix - 10800\n",
        "        timestamps_unix.append(timestamp_unix)\n",
        "\n",
        "    # Now timestamps_unix list contains Unix timestamps for each extracted timestamp\n",
        "    print(\"Unix Timestamps:\")\n",
        "    for timestamp_unix in timestamps_unix:\n",
        "        print(timestamp_unix)\n",
        "\n",
        "    # Extracting Self Recorded NASA-TLX Workload data from firebase\n",
        "    collection_name = \"Software Engineering\"\n",
        "\n",
        "    # Call the function to get the NASA TLX values for the specific user\n",
        "    nasa_tlx_values = extract_nasa_tlx_firestore(collection_name, user_id)\n",
        "\n",
        "    # Ensure that NASA TLX values are found for the user\n",
        "    if not nasa_tlx_values:\n",
        "        print(f\"No NASA TLX values found for user ID {user_id}. Skipping processing for this file.\")\n",
        "        continue\n",
        "\n",
        "    # Names for saving the images\n",
        "    csv_name = os.path.splitext(os.path.basename(filepath))[0]\n",
        "\n",
        "    # Load and preprocess the CSV file\n",
        "    raw_list = load_and_preprocess(filepath, timestamps_unix)\n",
        "\n",
        "    # Apply ICA\n",
        "    ica_list = apply_ica(raw_list)\n",
        "\n",
        "    # Calculate PSD\n",
        "    psds_list, freqs_list = calculate_psd(raw_list, ica_list)\n",
        "\n",
        "    # Generate PSD images\n",
        "    psd_to_image(psds_list, freqs_list, raw_list[0].ch_names, csv_name, timestamps_unix, nasa_tlx_values)\n",
        "\n",
        "##########################################################################################################\n",
        "\n",
        "    del raw_list, ica_list, psds_list, freqs_list  # Delete variables to free memory\n",
        "    gc.collect()  # Explicitly call garbage collection\n",
        "\"\"\""
      ],
      "metadata": {
        "id": "9EBnILBEqsH8",
        "colab": {
          "base_uri": "https://localhost:8080/",
          "height": 174
        },
        "outputId": "c17f618c-7d48-4945-dd26-ba4da32723d5"
      },
      "execution_count": null,
      "outputs": [
        {
          "output_type": "execute_result",
          "data": {
            "text/plain": [
              "'\\nimport os\\nimport mne\\nimport numpy as np\\nimport pandas as pd\\nimport matplotlib.pyplot as plt\\nfrom mne.channels import make_standard_montage\\nfrom datetime import datetime\\nimport firebase_admin\\nfrom firebase_admin import credentials\\nfrom firebase_admin import firestore\\nfrom datetime import datetime, timezone\\nimport gc\\n\\n########################################################################################\\n########################################################################################\\n#Firebase initializationn\\ndef initialize_firebase_app():\\n    # Check if the Firebase app is already initialized\\n    if not firebase_admin._apps:\\n        # Initialize Firebase app\\n        cred = credentials.Certificate(\"firebase/wl-nasa-tlx-firebase-adminsdk-f62th-21f83967e3.json\")\\n        firebase_admin.initialize_app(cred)\\n    else:\\n        print(\"Firebase app is already initialized.\")\\n\\n    return\\n\\n#########################################################################################\\n#########################################################################################\\n#Firebase - Extracting Timestamps for task timing defining\\ndef extract_timestamps_from_firestore(user_id):\\n    # Initialize Firebase app\\n    firebase_app = initialize_firebase_app()\\n\\n    # Get a Firestore database instance\\n    db = firestore.client(firebase_app)\\n\\n    # Specify the collection name\\n    collection_name = \"Software Engineering\"\\n\\n    # Get all document names in the specified collection\\n    documents = db.collection(collection_name).list_documents()\\n\\n    # Extract timestamps from document names for the specified user\\n    timestamps = []\\n    for doc in documents:\\n        document_name = doc.id\\n        if f\"userId: {user_id}\" in document_name:\\n            timestamp_start = document_name.find(\"timestamp: \") + len(\"timestamp: \")\\n            timestamp_end = document_name.find(\".\")\\n            timestamp = document_name[timestamp_start:timestamp_end]\\n            timestamps.append(timestamp)\\n    print(timestamps)\\n    # Return extracted timestamps\\n    return timestamps\\n\\n#####################################################################################################\\n#####################################################################################################\\n#Retriving NASA-TLX values from firebase\\ndef extract_nasa_tlx_firestore(collection_name, user_id):\\n    # Initialize Firebase app\\n    firebase_app = initialize_firebase_app()\\n\\n    # Get a Firestore database instance\\n    db = firestore.client(firebase_app)\\n\\n    # List to store desired values for each document\\n    desired_values = []\\n\\n    # Query documents in the specified collection\\n    query = db.collection(collection_name).stream()\\n\\n    # Iterate through query results\\n    for doc in query:\\n        # Get the document ID\\n        document_id = doc.id\\n\\n        # Check if the document belongs to the specified user ID\\n        if f\"userId: {user_id}\" in document_id:\\n            # Extract field values from the document\\n            document_data = doc.to_dict().values()\\n\\n            # Calculate sum of all field values in the document\\n            total_sum = sum(document_data)\\n\\n            # Calculate the average of field values\\n            average_value = total_sum / 60\\n\\n            # Multiply the average value by 5\\n            multiplied_value = average_value * 5\\n\\n            # Round the calculated value to the nearest decimal\\n            rounded_value = round(multiplied_value, 0)\\n\\n            # Ensure the rounded value is within the range 1 to 5\\n            if rounded_value < 1:\\n                rounded_value = 1.0\\n            elif rounded_value > 5:\\n                rounded_value = 5\\n\\n            # Convert the rounded value to a string\\n            rounded_value = str(rounded_value)\\n\\n            # Append the rounded value to the list\\n            desired_values.append(rounded_value)\\n\\n    # Print the list of desired values\\n    print(desired_values)\\n\\n    # Return the list of desired values\\n    return desired_values\\n\\n\\n##########################################################################\\n###############################################################################\\n# Function to apply filters\\ndef apply_filters(data, sfreq):\\n    # Apply highpass filter (0.5 Hz)\\n    data_filtered = mne.filter.filter_data(data, sfreq, l_freq=0.5, h_freq=None, verbose=False)\\n\\n    # Apply lowpass filter (80 Hz)\\n    data_filtered = mne.filter.filter_data(data_filtered, sfreq, l_freq=None, h_freq=80, verbose=False)\\n\\n    # Apply power line interference filter (notch filter at 60 Hz)\\n    data_filtered = mne.filter.notch_filter(data_filtered, sfreq, [60], verbose=False)\\n\\n    # Apply power line interference filter (notch filter at 50 Hz)\\n    data_filtered = mne.filter.notch_filter(data_filtered, sfreq, [50], verbose=False)\\n\\n    # Apply bandpass filter (1 - 40 Hz)\\n    data_filtered = mne.filter.filter_data(data_filtered, sfreq, l_freq=1, h_freq=40, verbose=False)\\n\\n    # Apply bandpass filter (1 - 40 Hz)\\n    data_filtered = mne.filter.filter_data(data, sfreq, l_freq=1, h_freq=40, fir_design=\\'firwin\\', verbose=False)\\n\\n    return data_filtered\\n\\n###################################################################################################\\n###################################################################################################\\n#Loading CSV file\\ndef load_and_preprocess(filepath, timestamps=None, output_dir=\\'research_codes/signal_images\\'):\\n    Loads EEG data from a CSV file, extracts channel names, and creates a preprocessed MNE Raw object.\\n\\n    Args:\\n        filepath (str): Path to the CSV file containing EEG data.\\n        timestamps (list of float or None): List of timestamps to define segments of data. If None, process all data.\\n        output_dir (str): Directory to save the signal images.\\n\\n    Returns:\\n        list of mne.io.Raw: List of preprocessed MNE Raw objects for each segment defined by timestamps.\\n\\n    # Extract file name from the file path\\n    file_name = os.path.splitext(os.path.basename(filepath))[0]\\n    user_id = file_name.split(\\'-\\')[-1].split(\\'_\\')[0]  # Extract user ID from the file name\\n\\n    # Load data using pandas\\n    df = pd.read_csv(filepath, header=None, low_memory=False)\\n\\n    # Extract channel names from the second row\\n    channel_names = df.iloc[1, 3:18].astype(str).tolist()  # Convert to string\\n\\n    # Ensure that channel_names contain at most 14 channels\\n    channel_names = channel_names[:14]\\n\\n    # Load data from the third row onwards and from the 4th to 17th column\\n    data = df.iloc[2:, 3:18].values.astype(float)\\n\\n    raw_list = []\\n\\n    if timestamps is None:\\n        timestamps = [None]\\n\\n    data_segment = None\\n\\n    for idx, timestamp in enumerate(timestamps):\\n        # Process data up to the specified timestamp\\n        if timestamp is not None:\\n            timestamps_df = df.iloc[2:, 0].values.astype(float)\\n            last_index = np.argmax(timestamps_df > timestamp)\\n            if last_index == 0:\\n                print(f\"Specified timestamp {idx + 1} is before the first recorded data. Processing all data.\")\\n            else:\\n                data_segment = data[:last_index]\\n                # Print Firebase and CSV timestamps at each range processed\\n                print(f\"Firebase Timestamp: {timestamp}, CSV Timestamp: {df.iloc[last_index, 0]}\")\\n        else:\\n            data_segment = data\\n\\n        # Sampling frequency (adjust based on your data)\\n        sampling_freq = 256\\n\\n        # Channel types (assuming all EEG)\\n        channel_types = [\\'eeg\\'] * len(channel_names)\\n\\n        # Create MNE Info object\\n        info = mne.create_info(ch_names=channel_names, ch_types=channel_types, sfreq=sampling_freq)\\n\\n        # Create RawArray\\n        raw = mne.io.RawArray(data_segment.T, info)\\n\\n        # Apply filters\\n        data_filtered = apply_filters(data_segment.T, sampling_freq)\\n\\n        # Create a new RawArray with the filtered data\\n        raw = mne.io.RawArray(data_filtered, info)\\n\\n\\n        # Basic filtering for removing line noise and slow drifts\\n        #raw.filter(1., 40., fir_design=\\'firwin\\')\\n\\n        raw_list.append(raw)\\n\\n        # Plot and save EEG signal plots for each channel\\n        if not os.path.exists(output_dir):\\n            os.makedirs(output_dir)\\n        for channel in range(len(raw.ch_names)):\\n            plt.figure()\\n            plt.plot(raw._data[channel], color=\\'blue\\')  # Plot EEG data for the channel\\n            plt.title(f\\'EEG Signal for Channel {raw.ch_names[channel]}\\')\\n            plt.xlabel(\\'Time (samples)\\')\\n            plt.ylabel(\\'Amplitude\\')\\n            plt.savefig(f\\'{output_dir}/signal_{file_name}_{idx+1}_{raw.ch_names[channel]}.png\\')\\n            plt.close()\\n\\n    return raw_list\\n\\n######################################################################################################\\n######################################################################################################\\n#Applying Apply Independent Component Analysis (ICA) for artifact removal.\\ndef apply_ica(raw_list):\\n    ica_list = []\\n    for raw in raw_list:\\n        # Initialize ICA\\n        ica = mne.preprocessing.ICA(n_components=len(raw.ch_names), random_state=42)\\n\\n        # Fit ICA\\n        ica.fit(raw)\\n\\n        ica_list.append(ica)\\n\\n    return ica_list\\n\\n######################################################################################################\\n######################################################################################################\\n#Calculates Power Spectral Density (PSD) using the psd_array_welch method.\\ndef calculate_psd(raw_list, ica_list):\\n  psds_list = []\\n  freqs_list = []\\n  for raw, ica in zip(raw_list, ica_list):\\n    # Apply ICA to remove artifact components\\n    raw_ica = ica.apply(raw.copy())\\n    # Define frequency range of interest\\n    fmin, fmax = 1., 40.\\n    # Get sampling frequency from Raw object\\n    sfreq = raw.info[\\'sfreq\\']\\n    # Compute PSD using psd_array_welch with sfreq argument\\n    psds, freqs = mne.time_frequency.psd_array_welch(raw_ica.get_data(), sfreq=sfreq, fmin=fmin, fmax=fmax, n_fft=2048)\\n    psds = 10. * np.log10(psds)  # Convert power to dB\\n    psds_list.append(psds)\\n    freqs_list.append(freqs)\\n  return psds_list, freqs_list\\n\\n####################################################################################################\\n####################################################################################################\\n#Generates combined PSD images with colormaps, line plots, and contrasting backgrounds.\\ndef psd_to_image(psds_list, freqs_list, channel_names, csv_name, timestamps, nasa_tlx_values_list,output_dir=\\'research_codes/psd_images_combined\\'):\\n    if not os.path.exists(output_dir):\\n        os.makedirs(output_dir)\\n    j = 1\\n    for idx, (psds, freqs) in enumerate(zip(psds_list, freqs_list)):\\n        timestamp = timestamps[idx]\\n        nasa_tlx_value = nasa_tlx_values_list[idx]\\n        folder_name = nasa_tlx_value\\n        folder_path = os.path.join(output_dir, folder_name)\\n        if not os.path.exists(folder_path):\\n            os.makedirs(folder_path)\\n        j = j + 1\\n        k = 1\\n        for i, channel_name in enumerate(channel_names):\\n            # Create the plot\\n            fig, ax = plt.subplots()\\n\\n            # Plot PSD with hot colormap\\n            im = ax.imshow(\\n                psds[i][:, np.newaxis].T,\\n                extent=[freqs[0], freqs[-1], 0, psds[i].max()],\\n                cmap=\\'Spectral_r\\',\\n                aspect=\\'auto\\',\\n                origin=\\'lower\\',\\n                vmin=psds[i].min(),\\n                vmax=psds[i].max()\\n            )\\n\\n            # Add line plot on top of the colormap\\n            ax.plot(freqs, psds[i], color=\\'black\\', linewidth=2)  # Adjust line style as desired\\n\\n            # Customize labels and title\\n            ax.set_xlabel(\\'Frequency (Hz)\\')\\n            ax.set_ylabel(\\'Power Spectral Density (dB)\\')\\n            ax.set_title(f\\'PSD: {channel_name}\\')\\n\\n            # Add colorbar using the mappable object (imshow)\\n            plt.colorbar(im, ax=ax, label=\\'Power Spectral Density (dB)\\')\\n            k = k + 1\\n            # Save the image\\n            plt.savefig(os.path.join(folder_path, f\\'psd{csv_name}_{folder_name}_{channel_name}_{j}_{k}.png\\'))\\n            plt.close()\\n\\n########################################################################################################\\n########################################################################################################\\n# Function to convert a timestamp string to Unix timestamp because the CSV file has this type\\ndef convert_to_unix(timestamp_str):\\n    # Convert timestamp string to datetime object\\n    timestamp_dt = datetime.strptime(timestamp_str, \"%Y-%m-%d %H:%M:%S\")\\n    # Convert datetime object to Unix timestamp (seconds since the epoch)\\n    timestamp_unix = int(timestamp_dt.timestamp())\\n    return timestamp_unix\\n#######################################################################################################\\n#######################################################################################################\\n\\n#######################################################################################################\\n###Inmplementation###\\n#######################################################################################################\\n#Extracting Self Recorded NASA-TLX Workload data from firebase\\ncollection_name = \"Software Engineering\"\\n\\n# Loading the CSV file\\nfilepaths = [\\'MWR-24-4_EEG.csv\\']\\n# Names for saving the images\\n# Iterate over each CSV file\\nfor filepath in filepaths:\\n    # Extract the user ID from the file name\\n    user_id = os.path.splitext(os.path.basename(filepath))[0].split(\\'-\\')[-1].split(\\'_\\')[0]\\n    print(\"#################################################################\")\\n    print(filepath)\\n    # Call the function to get the timestamps for the specific user\\n    timestamps = extract_timestamps_from_firestore(user_id)\\n\\n    # Convert each timestamp to Unix timestamp and store in a list\\n    timestamps_unix = []\\n    for timestamp in timestamps:\\n        timestamp_unix = convert_to_unix(timestamp)\\n        timestamp_unix = timestamp_unix - 10800\\n        timestamps_unix.append(timestamp_unix)\\n\\n    # Now timestamps_unix list contains Unix timestamps for each extracted timestamp\\n    print(\"Unix Timestamps:\")\\n    for timestamp_unix in timestamps_unix:\\n        print(timestamp_unix)\\n\\n    # Extracting Self Recorded NASA-TLX Workload data from firebase\\n    collection_name = \"Software Engineering\"\\n\\n    # Call the function to get the NASA TLX values for the specific user\\n    nasa_tlx_values = extract_nasa_tlx_firestore(collection_name, user_id)\\n\\n    # Ensure that NASA TLX values are found for the user\\n    if not nasa_tlx_values:\\n        print(f\"No NASA TLX values found for user ID {user_id}. Skipping processing for this file.\")\\n        continue\\n\\n    # Names for saving the images\\n    csv_name = os.path.splitext(os.path.basename(filepath))[0]\\n\\n    # Load and preprocess the CSV file\\n    raw_list = load_and_preprocess(filepath, timestamps_unix)\\n\\n    # Apply ICA\\n    ica_list = apply_ica(raw_list)\\n\\n    # Calculate PSD\\n    psds_list, freqs_list = calculate_psd(raw_list, ica_list)\\n\\n    # Generate PSD images\\n    psd_to_image(psds_list, freqs_list, raw_list[0].ch_names, csv_name, timestamps_unix, nasa_tlx_values)\\n\\n##########################################################################################################\\n\\n    del raw_list, ica_list, psds_list, freqs_list  # Delete variables to free memory\\n    gc.collect()  # Explicitly call garbage collection\\n'"
            ],
            "application/vnd.google.colaboratory.intrinsic+json": {
              "type": "string"
            }
          },
          "metadata": {},
          "execution_count": 76
        }
      ]
    },
    {
      "cell_type": "code",
      "source": [
        "import os\n",
        "import mne\n",
        "import numpy as np\n",
        "import pandas as pd\n",
        "import matplotlib.pyplot as plt\n",
        "from mne.channels import make_standard_montage\n",
        "from datetime import datetime\n",
        "import firebase_admin\n",
        "from firebase_admin import credentials\n",
        "from firebase_admin import firestore\n",
        "from datetime import datetime, timezone\n",
        "import gc\n",
        "from matplotlib.colors import LogNorm\n",
        "\n",
        "########################################################################################\n",
        "########################################################################################\n",
        "#Firebase initializationn\n",
        "def initialize_firebase_app():\n",
        "    # Check if the Firebase app is already initialized\n",
        "    if not firebase_admin._apps:\n",
        "        # Initialize Firebase app\n",
        "        cred = credentials.Certificate(\"firebase/wl-nasa-tlx-firebase-adminsdk-f62th-21f83967e3.json\")\n",
        "        firebase_admin.initialize_app(cred)\n",
        "    else:\n",
        "        print(\"Firebase app is already initialized.\")\n",
        "\n",
        "    return\n",
        "\n",
        "#########################################################################################\n",
        "#########################################################################################\n",
        "#Firebase - Extracting Timestamps for task timing defining\n",
        "def extract_timestamps_from_firestore(user_id):\n",
        "    # Initialize Firebase app\n",
        "    firebase_app = initialize_firebase_app()\n",
        "\n",
        "    # Get a Firestore database instance\n",
        "    db = firestore.client(firebase_app)\n",
        "\n",
        "    # Specify the collection name\n",
        "    collection_name = \"Software Engineering\"\n",
        "\n",
        "    # Get all document names in the specified collection\n",
        "    documents = db.collection(collection_name).list_documents()\n",
        "\n",
        "    # Extract timestamps from document names for the specified user\n",
        "    timestamps = []\n",
        "    for doc in documents:\n",
        "        document_name = doc.id\n",
        "        if f\"userId: {user_id}\" in document_name:\n",
        "            timestamp_start = document_name.find(\"timestamp: \") + len(\"timestamp: \")\n",
        "            timestamp_end = document_name.find(\".\")\n",
        "            timestamp = document_name[timestamp_start:timestamp_end]\n",
        "            timestamps.append(timestamp)\n",
        "    print(timestamps)\n",
        "    # Return extracted timestamps\n",
        "    return timestamps\n",
        "\n",
        "#####################################################################################################\n",
        "#####################################################################################################\n",
        "#Retriving NASA-TLX values from firebase\n",
        "def extract_nasa_tlx_firestore(collection_name, user_id):\n",
        "    # Initialize Firebase app\n",
        "    firebase_app = initialize_firebase_app()\n",
        "\n",
        "    # Get a Firestore database instance\n",
        "    db = firestore.client(firebase_app)\n",
        "\n",
        "    # List to store desired values for each document\n",
        "    desired_values = []\n",
        "\n",
        "    # Query documents in the specified collection\n",
        "    query = db.collection(collection_name).stream()\n",
        "\n",
        "    # Iterate through query results\n",
        "    for doc in query:\n",
        "        # Get the document ID\n",
        "        document_id = doc.id\n",
        "\n",
        "        # Check if the document belongs to the specified user ID\n",
        "        if f\"userId: {user_id}\" in document_id:\n",
        "            # Extract field values from the document\n",
        "            document_data = doc.to_dict().values()\n",
        "\n",
        "            # Calculate sum of all field values in the document\n",
        "            total_sum = sum(document_data)\n",
        "\n",
        "            # Calculate the average of field values\n",
        "            average_value = total_sum / 60\n",
        "\n",
        "            # Multiply the average value by 5\n",
        "            multiplied_value = average_value * 5\n",
        "\n",
        "            # Round the calculated value to the nearest decimal\n",
        "            rounded_value = round(multiplied_value, 0)\n",
        "\n",
        "            # Ensure the rounded value is within the range 1 to 5\n",
        "            if rounded_value < 1:\n",
        "                rounded_value = 1.0\n",
        "            elif rounded_value > 5:\n",
        "                rounded_value = 5\n",
        "\n",
        "            # Convert the rounded value to a string\n",
        "            rounded_value = str(rounded_value)\n",
        "\n",
        "            # Append the rounded value to the list\n",
        "            desired_values.append(rounded_value)\n",
        "\n",
        "    # Print the list of desired values\n",
        "    print(desired_values)\n",
        "\n",
        "    # Return the list of desired values\n",
        "    return desired_values\n",
        "\n",
        "###################################################################################################\n",
        "###################################################################################################\n",
        "##########################################################################\n",
        "###############################################################################\n",
        "# Function to apply filters\n",
        "def apply_filters(data, sfreq):\n",
        "    # Apply highpass filter (0.5 Hz)\n",
        "    data_filtered = mne.filter.filter_data(data, sfreq, l_freq=0.5, h_freq=None, verbose=False)\n",
        "\n",
        "    # Apply lowpass filter (100 Hz)\n",
        "    data_filtered = mne.filter.filter_data(data_filtered, sfreq, l_freq=None, h_freq=100, verbose=False)\n",
        "\n",
        "    # Apply power line interference filter (notch filter at 60 Hz)\n",
        "    data_filtered = mne.filter.notch_filter(data_filtered, sfreq, [60], verbose=False)\n",
        "\n",
        "    # Apply power line interference filter (notch filter at 50 Hz)\n",
        "    data_filtered = mne.filter.notch_filter(data_filtered, sfreq, [50], verbose=False)\n",
        "\n",
        "    # Apply bandpass filter (1 - 40 Hz)\n",
        "    data_filtered = mne.filter.filter_data(data_filtered, sfreq, l_freq=1, h_freq=40, verbose=False)\n",
        "\n",
        "    # Apply bandpass filter (1 - 40 Hz)\n",
        "    data_filtered = mne.filter.filter_data(data_filtered, sfreq, l_freq=1, h_freq=40, fir_design='firwin', verbose=False)\n",
        "\n",
        "    return data_filtered\n",
        "\n",
        "###################################################################################################\n",
        "###################################################################################################\n",
        "#Loading CSV file\n",
        "def load_and_preprocess(filepath, timestamps=None, output_dir='research_codes/signal_images'):\n",
        "    \"\"\"Loads EEG data from a CSV file, extracts channel names, and creates a preprocessed MNE Raw object.\n",
        "\n",
        "    Args:\n",
        "        filepath (str): Path to the CSV file containing EEG data.\n",
        "        timestamps (list of float or None): List of timestamps to define segments of data. If None, process all data.\n",
        "        output_dir (str): Directory to save the signal images.\n",
        "\n",
        "    Returns:\n",
        "        list of mne.io.Raw: List of preprocessed MNE Raw objects for each segment defined by timestamps.\n",
        "    \"\"\"\n",
        "    # Extract file name from the file path\n",
        "    file_name = os.path.splitext(os.path.basename(filepath))[0]\n",
        "    user_id = file_name.split('-')[-1].split('_')[0]  # Extract user ID from the file name\n",
        "\n",
        "    # Load data using pandas\n",
        "    df = pd.read_csv(filepath, header=None, low_memory=False)\n",
        "\n",
        "    # Extract channel names from the second row\n",
        "    channel_names = df.iloc[1, 3:18].astype(str).tolist()  # Convert to string\n",
        "\n",
        "    # Ensure that channel_names contain at most 14 channels\n",
        "    channel_names = channel_names[:14]\n",
        "\n",
        "    # Load data from the third row onwards and from the 4th to 17th column\n",
        "    data = df.iloc[2:, 3:18].values.astype(float)\n",
        "\n",
        "    raw_list = []\n",
        "\n",
        "    if timestamps is None:\n",
        "        timestamps = [None]\n",
        "\n",
        "    data_segment = None\n",
        "\n",
        "    for idx, timestamp in enumerate(timestamps):\n",
        "        # Process data up to the specified timestamp\n",
        "        if timestamp is not None:\n",
        "            timestamps_df = df.iloc[2:, 0].values.astype(float)\n",
        "            last_index = np.argmax(timestamps_df > timestamp)\n",
        "            if last_index == 0:\n",
        "                print(f\"Specified timestamp {idx + 1} is before the first recorded data. Processing all data.\")\n",
        "            else:\n",
        "                data_segment = data[:last_index]\n",
        "                # Print Firebase and CSV timestamps at each range processed\n",
        "                print(f\"Firebase Timestamp: {timestamp}, CSV Timestamp: {df.iloc[last_index, 0]}\")\n",
        "        else:\n",
        "            data_segment = data\n",
        "\n",
        "        # Sampling frequency (adjust based on your data)\n",
        "        sampling_freq = 256\n",
        "\n",
        "        # Channel types (assuming all EEG)\n",
        "        channel_types = ['eeg'] * len(channel_names)\n",
        "\n",
        "        # Create MNE Info object\n",
        "        info = mne.create_info(ch_names=channel_names, ch_types=channel_types, sfreq=sampling_freq)\n",
        "\n",
        "        # Create RawArray\n",
        "        #raw = mne.io.RawArray(data_segment.T, info)\n",
        "\n",
        "        # Apply filters\n",
        "        data_filtered = apply_filters(data_segment.T, sampling_freq)\n",
        "\n",
        "        # Create a new RawArray with the filtered data\n",
        "        raw = mne.io.RawArray(data_filtered, info)\n",
        "\n",
        "        # Basic filtering for removing line noise and slow drifts\n",
        "        #raw.filter(1., 40., fir_design='firwin')\n",
        "\n",
        "        raw_list.append(raw)\n",
        "\n",
        "        # Plot and save EEG signal plots for each channel\n",
        "        if not os.path.exists(output_dir):\n",
        "            os.makedirs(output_dir)\n",
        "        for channel in range(len(raw.ch_names)):\n",
        "            plt.figure()\n",
        "            plt.plot(raw._data[channel], color='blue')  # Plot EEG data for the channel\n",
        "            plt.title(f'EEG Signal for Channel {raw.ch_names[channel]}')\n",
        "            plt.xlabel('Time (samples)')\n",
        "            plt.ylabel('Amplitude')\n",
        "            plt.savefig(f'{output_dir}/signal_{file_name}_{idx+1}_{raw.ch_names[channel]}.png')\n",
        "            plt.close()\n",
        "\n",
        "    return raw_list\n",
        "\n",
        "######################################################################################################\n",
        "######################################################################################################\n",
        "#Applying Apply Independent Component Analysis (ICA) for artifact removal.\n",
        "def apply_ica(raw_list):\n",
        "    ica_list = []\n",
        "    for raw in raw_list:\n",
        "        # Initialize ICA\n",
        "        ica = mne.preprocessing.ICA(n_components=len(raw.ch_names), random_state=42)\n",
        "\n",
        "        # Fit ICA\n",
        "        ica.fit(raw)\n",
        "\n",
        "        ica_list.append(ica)\n",
        "\n",
        "    return ica_list\n",
        "\n",
        "######################################################################################################\n",
        "######################################################################################################\n",
        "#Calculates Power Spectral Density (PSD) using the psd_array_welch method.\n",
        "def calculate_psd(raw_list, ica_list):\n",
        "  psds_list = []\n",
        "  freqs_list = []\n",
        "  for raw, ica in zip(raw_list, ica_list):\n",
        "    # Apply ICA to remove artifact components\n",
        "    raw_ica = ica.apply(raw.copy())\n",
        "    # Define frequency range of interest\n",
        "    fmin, fmax = 1., 40.\n",
        "    # Get sampling frequency from Raw object\n",
        "    sfreq = raw.info['sfreq']\n",
        "    # Compute PSD using psd_array_welch with sfreq argument\n",
        "    psds, freqs = mne.time_frequency.psd_array_welch(raw_ica.get_data(), sfreq=sfreq, fmin=fmin, fmax=fmax, n_fft=2048)\n",
        "    psds = 10. * np.log10(psds)  # Convert power to dB\n",
        "    psds_list.append(psds)\n",
        "    freqs_list.append(freqs)\n",
        "  return psds_list, freqs_list\n",
        "\n",
        "####################################################################################################\n",
        "####################################################################################################\n",
        "#Generates combined PSD images with colormaps, line plots, and contrasting backgrounds.\n",
        "def psd_to_image(psds_list, freqs_list, channel_names, csv_name, timestamps, nasa_tlx_values_list,output_dir='research_codes/psd_images_combined'):\n",
        "    if not os.path.exists(output_dir):\n",
        "        os.makedirs(output_dir)\n",
        "    j = 1\n",
        "    for idx, (psds, freqs) in enumerate(zip(psds_list, freqs_list)):\n",
        "        timestamp = timestamps[idx]\n",
        "        nasa_tlx_value = nasa_tlx_values_list[idx]\n",
        "        folder_name = nasa_tlx_value\n",
        "        folder_path = os.path.join(output_dir, folder_name)\n",
        "        if not os.path.exists(folder_path):\n",
        "            os.makedirs(folder_path)\n",
        "        j = j + 1\n",
        "        k = 1\n",
        "        for i, channel_name in enumerate(channel_names):\n",
        "            # Create the plot\n",
        "            fig, ax = plt.subplots()\n",
        "\n",
        "            # Plot PSD with hot colormap\n",
        "            im = ax.imshow(\n",
        "                psds[i][:, np.newaxis].T,\n",
        "                extent=[freqs[0], freqs[-1], 0, psds[i].max()],\n",
        "                #cmap='Spectral_r',\n",
        "                cmap='hot',\n",
        "                aspect='auto',\n",
        "                origin='lower',\n",
        "                vmin=psds[i].min(),\n",
        "                vmax=psds[i].max(),\n",
        "            )\n",
        "\n",
        "            # Add line plot on top of the colormap\n",
        "            ax.plot(freqs, psds[i], color='black', linewidth=2)  # Adjust line style as desired\n",
        "\n",
        "            # Customize labels and title\n",
        "            ax.set_xlabel('Frequency (Hz)')\n",
        "            ax.set_ylabel('Power Spectral Density (dB)')\n",
        "            #ax.set_title(f'PSD: {channel_name}')\n",
        "\n",
        "            # Add colorbar using the mappable object (imshow)\n",
        "            plt.colorbar(im, ax=ax, label='Power Spectral Density (dB)')\n",
        "            k = k + 1\n",
        "            # Save the image\n",
        "            plt.savefig(os.path.join(folder_path, f'psd{csv_name}_{folder_name}_{channel_name}_{j}_{k}.png'))\n",
        "            plt.close()\n",
        "\n",
        "########################################################################################################\n",
        "########################################################################################################\n",
        "# Function to convert a timestamp string to Unix timestamp because the CSV file has this type\n",
        "def convert_to_unix(timestamp_str):\n",
        "    # Convert timestamp string to datetime object\n",
        "    timestamp_dt = datetime.strptime(timestamp_str, \"%Y-%m-%d %H:%M:%S\")\n",
        "    # Convert datetime object to Unix timestamp (seconds since the epoch)\n",
        "    timestamp_unix = int(timestamp_dt.timestamp())\n",
        "    return timestamp_unix\n",
        "#######################################################################################################\n",
        "#######################################################################################################\n",
        "\n",
        "#######################################################################################################\n",
        "###Inmplementation###\n",
        "#######################################################################################################\n",
        "#Extracting Self Recorded NASA-TLX Workload data from firebase\n",
        "collection_name = \"Software Engineering\"\n",
        "\n",
        "# Loading the CSV file\n",
        "filepaths = ['MWR-24-5_EEG.csv', 'MWR-24-18_EEG.csv']\n",
        "#filepaths = ['MWR-24-1_EEG.csv', 'MWR-24-2_EEG.csv', 'MWR-24-3_EEG.csv', 'MWR-24-4_EEG.csv']\n",
        "# Names for saving the images\n",
        "# Iterate over each CSV file\n",
        "for filepath in filepaths:\n",
        "    # Extract the user ID from the file name\n",
        "    user_id = os.path.splitext(os.path.basename(filepath))[0].split('-')[-1].split('_')[0]\n",
        "    print(\"#################################################################\")\n",
        "    print(filepath)\n",
        "    # Call the function to get the timestamps for the specific user\n",
        "    timestamps = extract_timestamps_from_firestore(user_id)\n",
        "\n",
        "    # Convert each timestamp to Unix timestamp and store in a list\n",
        "    timestamps_unix = []\n",
        "    for timestamp in timestamps:\n",
        "        timestamp_unix = convert_to_unix(timestamp)\n",
        "        timestamp_unix = timestamp_unix - 10800\n",
        "        timestamps_unix.append(timestamp_unix)\n",
        "\n",
        "    # Now timestamps_unix list contains Unix timestamps for each extracted timestamp\n",
        "    print(\"Unix Timestamps:\")\n",
        "    for timestamp_unix in timestamps_unix:\n",
        "        print(timestamp_unix)\n",
        "\n",
        "    # Extracting Self Recorded NASA-TLX Workload data from firebase\n",
        "    collection_name = \"Software Engineering\"\n",
        "\n",
        "    # Call the function to get the NASA TLX values for the specific user\n",
        "    nasa_tlx_values = extract_nasa_tlx_firestore(collection_name, user_id)\n",
        "\n",
        "    # Ensure that NASA TLX values are found for the user\n",
        "    if not nasa_tlx_values:\n",
        "        print(f\"No NASA TLX values found for user ID {user_id}. Skipping processing for this file.\")\n",
        "        continue\n",
        "\n",
        "    # Names for saving the images\n",
        "    csv_name = os.path.splitext(os.path.basename(filepath))[0]\n",
        "\n",
        "    # Load and preprocess the CSV file\n",
        "    raw_list = load_and_preprocess(filepath, timestamps_unix)\n",
        "\n",
        "    # Apply ICA\n",
        "    ica_list = apply_ica(raw_list)\n",
        "\n",
        "    # Calculate PSD\n",
        "    psds_list, freqs_list = calculate_psd(raw_list, ica_list)\n",
        "\n",
        "    # Generate PSD images\n",
        "    psd_to_image(psds_list, freqs_list, raw_list[0].ch_names, csv_name, timestamps_unix, nasa_tlx_values)\n",
        "\n",
        "##########################################################################################################\n",
        "    del raw_list, ica_list, psds_list, freqs_list  # Delete variables to free memory\n",
        "    gc.collect()  # Explicitly call garbage collection"
      ],
      "metadata": {
        "id": "D_AwiGqqw00f",
        "outputId": "999f91da-2dd7-4147-c50f-1a4612789f16",
        "colab": {
          "base_uri": "https://localhost:8080/"
        }
      },
      "execution_count": 1,
      "outputs": [
        {
          "output_type": "stream",
          "name": "stdout",
          "text": [
            "#################################################################\n",
            "MWR-24-5_EEG.csv\n",
            "['2024-05-15 04:54:33', '2024-05-15 04:54:49', '2024-05-15 04:55:00', '2024-05-15 04:55:13', '2024-05-15 04:55:26', '2024-05-15 04:55:48', '2024-05-15 04:56:06']\n",
            "Unix Timestamps:\n",
            "1715738073\n",
            "1715738089\n",
            "1715738100\n",
            "1715738113\n",
            "1715738126\n",
            "1715738148\n",
            "1715738166\n",
            "Firebase app is already initialized.\n",
            "['1.0', '1.0', '1.0', '1.0', '1.0', '1.0', '1.0']\n",
            "Firebase Timestamp: 1715738073, CSV Timestamp: 1715738073\n",
            "Creating RawArray with float64 data, n_channels=14, n_times=37529\n",
            "    Range : 0 ... 37528 =      0.000 ...   146.594 secs\n",
            "Ready.\n",
            "Firebase Timestamp: 1715738089, CSV Timestamp: 1715738089\n",
            "Creating RawArray with float64 data, n_channels=14, n_times=75058\n",
            "    Range : 0 ... 75057 =      0.000 ...   293.191 secs\n",
            "Ready.\n",
            "Firebase Timestamp: 1715738100, CSV Timestamp: 1715738100\n",
            "Creating RawArray with float64 data, n_channels=14, n_times=112587\n",
            "    Range : 0 ... 112586 =      0.000 ...   439.789 secs\n",
            "Ready.\n",
            "Firebase Timestamp: 1715738113, CSV Timestamp: 1715738112\n",
            "Creating RawArray with float64 data, n_channels=14, n_times=150116\n",
            "    Range : 0 ... 150115 =      0.000 ...   586.387 secs\n",
            "Ready.\n",
            "Firebase Timestamp: 1715738126, CSV Timestamp: 1715738125\n",
            "Creating RawArray with float64 data, n_channels=14, n_times=187645\n",
            "    Range : 0 ... 187644 =      0.000 ...   732.984 secs\n",
            "Ready.\n",
            "Firebase Timestamp: 1715738148, CSV Timestamp: 1715738148\n",
            "Creating RawArray with float64 data, n_channels=14, n_times=225174\n",
            "    Range : 0 ... 225173 =      0.000 ...   879.582 secs\n",
            "Ready.\n",
            "Specified timestamp 7 is before the first recorded data. Processing all data.\n",
            "Creating RawArray with float64 data, n_channels=14, n_times=225174\n",
            "    Range : 0 ... 225173 =      0.000 ...   879.582 secs\n",
            "Ready.\n",
            "Fitting ICA to data using 14 channels (please be patient, this may take a while)\n"
          ]
        },
        {
          "output_type": "stream",
          "name": "stderr",
          "text": [
            "<ipython-input-1-d7d71f21b59a>:238: RuntimeWarning: The data has not been high-pass filtered. For good ICA performance, it should be high-pass filtered (e.g., with a 1.0 Hz lower bound) before fitting ICA.\n",
            "  ica.fit(raw)\n"
          ]
        },
        {
          "output_type": "stream",
          "name": "stdout",
          "text": [
            "Selecting by number: 14 components\n",
            "Fitting ICA took 2.1s.\n",
            "Fitting ICA to data using 14 channels (please be patient, this may take a while)\n",
            "Selecting by number: 14 components\n"
          ]
        },
        {
          "output_type": "stream",
          "name": "stderr",
          "text": [
            "<ipython-input-1-d7d71f21b59a>:238: RuntimeWarning: The data has not been high-pass filtered. For good ICA performance, it should be high-pass filtered (e.g., with a 1.0 Hz lower bound) before fitting ICA.\n",
            "  ica.fit(raw)\n"
          ]
        },
        {
          "output_type": "stream",
          "name": "stdout",
          "text": [
            "Fitting ICA took 1.7s.\n",
            "Fitting ICA to data using 14 channels (please be patient, this may take a while)\n",
            "Selecting by number: 14 components\n"
          ]
        },
        {
          "output_type": "stream",
          "name": "stderr",
          "text": [
            "<ipython-input-1-d7d71f21b59a>:238: RuntimeWarning: The data has not been high-pass filtered. For good ICA performance, it should be high-pass filtered (e.g., with a 1.0 Hz lower bound) before fitting ICA.\n",
            "  ica.fit(raw)\n"
          ]
        },
        {
          "output_type": "stream",
          "name": "stdout",
          "text": [
            "Fitting ICA took 6.4s.\n",
            "Fitting ICA to data using 14 channels (please be patient, this may take a while)\n",
            "Selecting by number: 14 components\n"
          ]
        },
        {
          "output_type": "stream",
          "name": "stderr",
          "text": [
            "<ipython-input-1-d7d71f21b59a>:238: RuntimeWarning: The data has not been high-pass filtered. For good ICA performance, it should be high-pass filtered (e.g., with a 1.0 Hz lower bound) before fitting ICA.\n",
            "  ica.fit(raw)\n"
          ]
        },
        {
          "output_type": "stream",
          "name": "stdout",
          "text": [
            "Fitting ICA took 5.8s.\n",
            "Fitting ICA to data using 14 channels (please be patient, this may take a while)\n",
            "Selecting by number: 14 components\n"
          ]
        },
        {
          "output_type": "stream",
          "name": "stderr",
          "text": [
            "<ipython-input-1-d7d71f21b59a>:238: RuntimeWarning: The data has not been high-pass filtered. For good ICA performance, it should be high-pass filtered (e.g., with a 1.0 Hz lower bound) before fitting ICA.\n",
            "  ica.fit(raw)\n"
          ]
        },
        {
          "output_type": "stream",
          "name": "stdout",
          "text": [
            "Fitting ICA took 7.6s.\n",
            "Fitting ICA to data using 14 channels (please be patient, this may take a while)\n"
          ]
        },
        {
          "output_type": "stream",
          "name": "stderr",
          "text": [
            "<ipython-input-1-d7d71f21b59a>:238: RuntimeWarning: The data has not been high-pass filtered. For good ICA performance, it should be high-pass filtered (e.g., with a 1.0 Hz lower bound) before fitting ICA.\n",
            "  ica.fit(raw)\n"
          ]
        },
        {
          "output_type": "stream",
          "name": "stdout",
          "text": [
            "Selecting by number: 14 components\n",
            "Fitting ICA took 7.9s.\n",
            "Fitting ICA to data using 14 channels (please be patient, this may take a while)\n",
            "Selecting by number: 14 components\n"
          ]
        },
        {
          "output_type": "stream",
          "name": "stderr",
          "text": [
            "<ipython-input-1-d7d71f21b59a>:238: RuntimeWarning: The data has not been high-pass filtered. For good ICA performance, it should be high-pass filtered (e.g., with a 1.0 Hz lower bound) before fitting ICA.\n",
            "  ica.fit(raw)\n"
          ]
        },
        {
          "output_type": "stream",
          "name": "stdout",
          "text": [
            "Fitting ICA took 7.4s.\n",
            "Applying ICA to Raw instance\n",
            "    Transforming to ICA space (14 components)\n",
            "    Zeroing out 0 ICA components\n",
            "    Projecting back using 14 PCA components\n",
            "Effective window size : 8.000 (s)\n",
            "Applying ICA to Raw instance\n",
            "    Transforming to ICA space (14 components)\n",
            "    Zeroing out 0 ICA components\n",
            "    Projecting back using 14 PCA components\n",
            "Effective window size : 8.000 (s)\n",
            "Applying ICA to Raw instance\n",
            "    Transforming to ICA space (14 components)\n",
            "    Zeroing out 0 ICA components\n",
            "    Projecting back using 14 PCA components\n",
            "Effective window size : 8.000 (s)\n",
            "Applying ICA to Raw instance\n",
            "    Transforming to ICA space (14 components)\n",
            "    Zeroing out 0 ICA components\n",
            "    Projecting back using 14 PCA components\n",
            "Effective window size : 8.000 (s)\n",
            "Applying ICA to Raw instance\n",
            "    Transforming to ICA space (14 components)\n",
            "    Zeroing out 0 ICA components\n",
            "    Projecting back using 14 PCA components\n",
            "Effective window size : 8.000 (s)\n",
            "Applying ICA to Raw instance\n",
            "    Transforming to ICA space (14 components)\n",
            "    Zeroing out 0 ICA components\n",
            "    Projecting back using 14 PCA components\n",
            "Effective window size : 8.000 (s)\n",
            "Applying ICA to Raw instance\n",
            "    Transforming to ICA space (14 components)\n",
            "    Zeroing out 0 ICA components\n",
            "    Projecting back using 14 PCA components\n",
            "Effective window size : 8.000 (s)\n",
            "#################################################################\n",
            "MWR-24-18_EEG.csv\n",
            "Firebase app is already initialized.\n",
            "['2024-05-24 13:51:20', '2024-05-24 13:53:09', '2024-05-24 13:54:57', '2024-05-24 13:56:11', '2024-05-24 13:58:03', '2024-05-24 13:59:22', '2024-05-24 14:00:54']\n",
            "Unix Timestamps:\n",
            "1716547880\n",
            "1716547989\n",
            "1716548097\n",
            "1716548171\n",
            "1716548283\n",
            "1716548362\n",
            "1716548454\n",
            "Firebase app is already initialized.\n",
            "['1.0', '1.0', '2.0', '2.0', '2.0', '2.0', '1.0']\n",
            "Firebase Timestamp: 1716547880, CSV Timestamp: 1716547880\n",
            "Creating RawArray with float64 data, n_channels=14, n_times=49445\n",
            "    Range : 0 ... 49444 =      0.000 ...   193.141 secs\n",
            "Ready.\n",
            "Firebase Timestamp: 1716547989, CSV Timestamp: 1716547989\n",
            "Creating RawArray with float64 data, n_channels=14, n_times=77364\n",
            "    Range : 0 ... 77363 =      0.000 ...   302.199 secs\n",
            "Ready.\n",
            "Firebase Timestamp: 1716548097, CSV Timestamp: 1716548097\n",
            "Creating RawArray with float64 data, n_channels=14, n_times=105028\n",
            "    Range : 0 ... 105027 =      0.000 ...   410.262 secs\n",
            "Ready.\n",
            "Firebase Timestamp: 1716548171, CSV Timestamp: 1716548171\n",
            "Creating RawArray with float64 data, n_channels=14, n_times=123983\n",
            "    Range : 0 ... 123982 =      0.000 ...   484.305 secs\n",
            "Ready.\n",
            "Firebase Timestamp: 1716548283, CSV Timestamp: 1716548283\n",
            "Creating RawArray with float64 data, n_channels=14, n_times=152671\n",
            "    Range : 0 ... 152670 =      0.000 ...   596.367 secs\n",
            "Ready.\n",
            "Firebase Timestamp: 1716548362, CSV Timestamp: 1716548362\n",
            "Creating RawArray with float64 data, n_channels=14, n_times=172907\n",
            "    Range : 0 ... 172906 =      0.000 ...   675.414 secs\n",
            "Ready.\n",
            "Firebase Timestamp: 1716548454, CSV Timestamp: 1716548454\n",
            "Creating RawArray with float64 data, n_channels=14, n_times=196472\n",
            "    Range : 0 ... 196471 =      0.000 ...   767.465 secs\n",
            "Ready.\n",
            "Fitting ICA to data using 14 channels (please be patient, this may take a while)\n",
            "Selecting by number: 14 components\n"
          ]
        },
        {
          "output_type": "stream",
          "name": "stderr",
          "text": [
            "<ipython-input-1-d7d71f21b59a>:238: RuntimeWarning: The data has not been high-pass filtered. For good ICA performance, it should be high-pass filtered (e.g., with a 1.0 Hz lower bound) before fitting ICA.\n",
            "  ica.fit(raw)\n"
          ]
        },
        {
          "output_type": "stream",
          "name": "stdout",
          "text": [
            "Fitting ICA took 4.4s.\n",
            "Fitting ICA to data using 14 channels (please be patient, this may take a while)\n",
            "Selecting by number: 14 components\n"
          ]
        },
        {
          "output_type": "stream",
          "name": "stderr",
          "text": [
            "<ipython-input-1-d7d71f21b59a>:238: RuntimeWarning: The data has not been high-pass filtered. For good ICA performance, it should be high-pass filtered (e.g., with a 1.0 Hz lower bound) before fitting ICA.\n",
            "  ica.fit(raw)\n"
          ]
        },
        {
          "output_type": "stream",
          "name": "stdout",
          "text": [
            "Fitting ICA took 4.7s.\n",
            "Fitting ICA to data using 14 channels (please be patient, this may take a while)\n",
            "Selecting by number: 14 components\n"
          ]
        },
        {
          "output_type": "stream",
          "name": "stderr",
          "text": [
            "<ipython-input-1-d7d71f21b59a>:238: RuntimeWarning: The data has not been high-pass filtered. For good ICA performance, it should be high-pass filtered (e.g., with a 1.0 Hz lower bound) before fitting ICA.\n",
            "  ica.fit(raw)\n"
          ]
        },
        {
          "output_type": "stream",
          "name": "stdout",
          "text": [
            "Fitting ICA took 5.8s.\n",
            "Fitting ICA to data using 14 channels (please be patient, this may take a while)\n",
            "Selecting by number: 14 components\n"
          ]
        },
        {
          "output_type": "stream",
          "name": "stderr",
          "text": [
            "<ipython-input-1-d7d71f21b59a>:238: RuntimeWarning: The data has not been high-pass filtered. For good ICA performance, it should be high-pass filtered (e.g., with a 1.0 Hz lower bound) before fitting ICA.\n",
            "  ica.fit(raw)\n"
          ]
        },
        {
          "output_type": "stream",
          "name": "stdout",
          "text": [
            "Fitting ICA took 6.7s.\n",
            "Fitting ICA to data using 14 channels (please be patient, this may take a while)\n",
            "Selecting by number: 14 components\n"
          ]
        },
        {
          "output_type": "stream",
          "name": "stderr",
          "text": [
            "<ipython-input-1-d7d71f21b59a>:238: RuntimeWarning: The data has not been high-pass filtered. For good ICA performance, it should be high-pass filtered (e.g., with a 1.0 Hz lower bound) before fitting ICA.\n",
            "  ica.fit(raw)\n"
          ]
        },
        {
          "output_type": "stream",
          "name": "stdout",
          "text": [
            "Fitting ICA took 8.6s.\n",
            "Fitting ICA to data using 14 channels (please be patient, this may take a while)\n",
            "Selecting by number: 14 components\n"
          ]
        },
        {
          "output_type": "stream",
          "name": "stderr",
          "text": [
            "<ipython-input-1-d7d71f21b59a>:238: RuntimeWarning: The data has not been high-pass filtered. For good ICA performance, it should be high-pass filtered (e.g., with a 1.0 Hz lower bound) before fitting ICA.\n",
            "  ica.fit(raw)\n"
          ]
        },
        {
          "output_type": "stream",
          "name": "stdout",
          "text": [
            "Fitting ICA took 8.5s.\n",
            "Fitting ICA to data using 14 channels (please be patient, this may take a while)\n",
            "Selecting by number: 14 components\n"
          ]
        },
        {
          "output_type": "stream",
          "name": "stderr",
          "text": [
            "<ipython-input-1-d7d71f21b59a>:238: RuntimeWarning: The data has not been high-pass filtered. For good ICA performance, it should be high-pass filtered (e.g., with a 1.0 Hz lower bound) before fitting ICA.\n",
            "  ica.fit(raw)\n"
          ]
        },
        {
          "output_type": "stream",
          "name": "stdout",
          "text": [
            "Fitting ICA took 12.6s.\n",
            "Applying ICA to Raw instance\n",
            "    Transforming to ICA space (14 components)\n",
            "    Zeroing out 0 ICA components\n",
            "    Projecting back using 14 PCA components\n",
            "Effective window size : 8.000 (s)\n",
            "Applying ICA to Raw instance\n",
            "    Transforming to ICA space (14 components)\n",
            "    Zeroing out 0 ICA components\n",
            "    Projecting back using 14 PCA components\n",
            "Effective window size : 8.000 (s)\n",
            "Applying ICA to Raw instance\n",
            "    Transforming to ICA space (14 components)\n",
            "    Zeroing out 0 ICA components\n",
            "    Projecting back using 14 PCA components\n",
            "Effective window size : 8.000 (s)\n",
            "Applying ICA to Raw instance\n",
            "    Transforming to ICA space (14 components)\n",
            "    Zeroing out 0 ICA components\n",
            "    Projecting back using 14 PCA components\n",
            "Effective window size : 8.000 (s)\n",
            "Applying ICA to Raw instance\n",
            "    Transforming to ICA space (14 components)\n",
            "    Zeroing out 0 ICA components\n",
            "    Projecting back using 14 PCA components\n",
            "Effective window size : 8.000 (s)\n",
            "Applying ICA to Raw instance\n",
            "    Transforming to ICA space (14 components)\n",
            "    Zeroing out 0 ICA components\n",
            "    Projecting back using 14 PCA components\n",
            "Effective window size : 8.000 (s)\n",
            "Applying ICA to Raw instance\n",
            "    Transforming to ICA space (14 components)\n",
            "    Zeroing out 0 ICA components\n",
            "    Projecting back using 14 PCA components\n",
            "Effective window size : 8.000 (s)\n"
          ]
        }
      ]
    },
    {
      "cell_type": "markdown",
      "source": [
        "#Cleaning Data folder"
      ],
      "metadata": {
        "id": "1UPU0hYAjDmw"
      }
    },
    {
      "cell_type": "code",
      "execution_count": null,
      "metadata": {
        "id": "2apqe7BfJr8d"
      },
      "outputs": [],
      "source": [
        "#!rm -rf research_codes"
      ]
    },
    {
      "cell_type": "markdown",
      "source": [
        "#Importing Libraries"
      ],
      "metadata": {
        "id": "t7MhVcccjJs9"
      }
    },
    {
      "cell_type": "code",
      "execution_count": 395,
      "metadata": {
        "id": "8IiSEvjaSMuQ",
        "colab": {
          "base_uri": "https://localhost:8080/"
        },
        "outputId": "d3438aad-bfaf-449b-eb27-9af3d65ebc37"
      },
      "outputs": [
        {
          "output_type": "stream",
          "name": "stdout",
          "text": [
            "Requirement already satisfied: gdown in /usr/local/lib/python3.10/dist-packages (5.1.0)\n",
            "Requirement already satisfied: beautifulsoup4 in /usr/local/lib/python3.10/dist-packages (from gdown) (4.12.3)\n",
            "Requirement already satisfied: filelock in /usr/local/lib/python3.10/dist-packages (from gdown) (3.14.0)\n",
            "Requirement already satisfied: requests[socks] in /usr/local/lib/python3.10/dist-packages (from gdown) (2.31.0)\n",
            "Requirement already satisfied: tqdm in /usr/local/lib/python3.10/dist-packages (from gdown) (4.66.4)\n",
            "Requirement already satisfied: soupsieve>1.2 in /usr/local/lib/python3.10/dist-packages (from beautifulsoup4->gdown) (2.5)\n",
            "Requirement already satisfied: charset-normalizer<4,>=2 in /usr/local/lib/python3.10/dist-packages (from requests[socks]->gdown) (3.3.2)\n",
            "Requirement already satisfied: idna<4,>=2.5 in /usr/local/lib/python3.10/dist-packages (from requests[socks]->gdown) (3.7)\n",
            "Requirement already satisfied: urllib3<3,>=1.21.1 in /usr/local/lib/python3.10/dist-packages (from requests[socks]->gdown) (2.0.7)\n",
            "Requirement already satisfied: certifi>=2017.4.17 in /usr/local/lib/python3.10/dist-packages (from requests[socks]->gdown) (2024.2.2)\n",
            "Requirement already satisfied: PySocks!=1.5.7,>=1.5.6 in /usr/local/lib/python3.10/dist-packages (from requests[socks]->gdown) (1.7.1)\n"
          ]
        }
      ],
      "source": [
        "import zipfile\n",
        "import argparse\n",
        "import random\n",
        "!pip install gdown\n",
        "import gdown\n",
        "import tarfile\n",
        "\n",
        "import torch\n",
        "import torch.nn as nn\n",
        "\n",
        "import torchvision\n",
        "from torchvision import datasets\n",
        "from torchvision import datasets, transforms\n",
        "import torchvision.utils as vutils\n",
        "from torch.optim.lr_scheduler import StepLR\n",
        "from sklearn.metrics import accuracy_score\n",
        "from sklearn.model_selection import train_test_split\n",
        "\n",
        "from PIL import Image\n",
        "import time\n",
        "\n",
        "import os\n",
        "import mne\n",
        "import numpy as np\n",
        "import pandas as pd\n",
        "import matplotlib.pyplot as plt\n",
        "from mne.channels import make_standard_montage\n",
        "from datetime import datetime\n",
        "import firebase_admin\n",
        "from firebase_admin import credentials\n",
        "from firebase_admin import firestore\n",
        "from datetime import datetime, timezone\n",
        "import gc"
      ]
    },
    {
      "cell_type": "markdown",
      "source": [
        "#Checking the device and selecting"
      ],
      "metadata": {
        "id": "Ad9NleSqjNUU"
      }
    },
    {
      "cell_type": "code",
      "execution_count": 396,
      "metadata": {
        "id": "4hApJnwSL_Zf",
        "colab": {
          "base_uri": "https://localhost:8080/"
        },
        "outputId": "820bc15e-6b13-401b-ef1f-eaade36feb3e"
      },
      "outputs": [
        {
          "output_type": "stream",
          "name": "stdout",
          "text": [
            "Device: cuda:0\n"
          ]
        }
      ],
      "source": [
        "device = torch.device('cuda:0' if torch.cuda.is_available() else 'cpu')\n",
        "\n",
        "print('Device:', device)"
      ]
    },
    {
      "cell_type": "markdown",
      "source": [
        "#Downloading psdImages Dataset"
      ],
      "metadata": {
        "id": "o63Ck8kAjRCG"
      }
    },
    {
      "cell_type": "code",
      "execution_count": 397,
      "metadata": {
        "id": "F_NCE-ThMB5j"
      },
      "outputs": [],
      "source": [
        "# Define the path to the psdImages data\n",
        "psdImages_path = '/content/research_codes/psd_images_combined'\n"
      ]
    },
    {
      "cell_type": "markdown",
      "source": [
        "#Displaying some sample files"
      ],
      "metadata": {
        "id": "wXVFsFFxjiwc"
      }
    },
    {
      "cell_type": "code",
      "execution_count": 398,
      "metadata": {
        "id": "9t9Js5o4W1p5",
        "colab": {
          "base_uri": "https://localhost:8080/",
          "height": 283
        },
        "outputId": "4e2e8022-2b64-4b9a-cab9-99b585f0a0eb"
      },
      "outputs": [
        {
          "output_type": "display_data",
          "data": {
            "text/plain": [
              "<Figure size 1500x2000 with 1 Axes>"
            ],
            "image/png": "[encoded data removed]"
          },
          "metadata": {}
        }
      ],
      "source": [
        "# Display some sample images from the training dataset\n",
        "transform_common = transforms.Compose([\n",
        "        transforms.Resize((224, 224)),\n",
        "        transforms.ToTensor(),\n",
        "    ])\n",
        "psdImages_dataset_show = datasets.ImageFolder(root=psdImages_path, transform=transform_common)\n",
        "sample_loader = torch.utils.data.DataLoader(psdImages_dataset_show, batch_size=4, shuffle=True)\n",
        "sample_batch, sample_labels = next(iter(sample_loader))\n",
        "\n",
        "plt.figure(figsize=(15, 20))\n",
        "plt.axis(\"off\")\n",
        "plt.title(\"Sample Images\")\n",
        "plt.imshow(np.transpose(vutils.make_grid(sample_batch, padding=2, normalize=True).cpu(), (1, 2, 0)))\n",
        "plt.show()"
      ]
    },
    {
      "cell_type": "markdown",
      "metadata": {
        "id": "fgNupibzofwz"
      },
      "source": [
        "#Loading data, Transform defining, Data Splitting, DataLoader definining and Activity showcasing"
      ]
    },
    {
      "cell_type": "code",
      "execution_count": 399,
      "metadata": {
        "id": "QdQ5sFQgMEZs",
        "colab": {
          "base_uri": "https://localhost:8080/"
        },
        "outputId": "337dbbae-44ae-4f6f-ca4d-ebb2ce7d90e4"
      },
      "outputs": [
        {
          "output_type": "stream",
          "name": "stdout",
          "text": [
            "Number of Classes:  5\n",
            "Train Size:  352\n",
            "Val Size:  117\n",
            "Test Size:  119\n",
            "Train Dataset Transform:  Compose(\n",
            "    RandomResizedCrop(size=(216, 216), scale=(0.7, 1.0), ratio=(0.75, 1.3333), interpolation=bilinear, antialias=warn)\n",
            "    ColorJitter(brightness=(0.9, 1.1), contrast=(0.9, 1.1), saturation=(0.9, 1.1), hue=(-0.1, 0.1))\n",
            "    RandomRotation(degrees=[-15.0, 15.0], interpolation=nearest, expand=False, fill=0)\n",
            "    RandomHorizontalFlip(p=0.5)\n",
            "    RandomVerticalFlip(p=0.5)\n",
            "    Resize(size=(224, 224), interpolation=bilinear, max_size=None, antialias=warn)\n",
            "    ToTensor()\n",
            "    Normalize(mean=[0.485, 0.456, 0.406], std=[0.229, 0.224, 0.225])\n",
            ")\n",
            "Validation Dataset Transform:  Compose(\n",
            "    Resize(size=(224, 224), interpolation=bilinear, max_size=None, antialias=warn)\n",
            "    ToTensor()\n",
            "    Normalize(mean=[0.485, 0.456, 0.406], std=[0.229, 0.224, 0.225])\n",
            ")\n",
            "Test Dataset Transform:  Compose(\n",
            "    Resize(size=(224, 224), interpolation=bilinear, max_size=None, antialias=warn)\n",
            "    ToTensor()\n",
            "    Normalize(mean=[0.485, 0.456, 0.406], std=[0.229, 0.224, 0.225])\n",
            ")\n",
            "{'1.0': 0, '2.0': 1, '3.0': 2, '4.0': 3, '5.0': 4}\n"
          ]
        }
      ],
      "source": [
        "# Load psdImages dataset\n",
        "\n",
        "# Training transformations with data augmentation\n",
        "train_transform = transforms.Compose([\n",
        "    transforms.RandomResizedCrop(size=216, scale=(0.7, 1.0)),\n",
        "    transforms.ColorJitter(brightness=0.1, contrast=0.1, saturation=0.1, hue=0.1),\n",
        "    transforms.RandomRotation(degrees=15),\n",
        "    transforms.RandomHorizontalFlip(),\n",
        "    transforms.RandomVerticalFlip(),\n",
        "    transforms.Resize((224, 224)),\n",
        "    transforms.ToTensor(),\n",
        "    transforms.Normalize([0.485, 0.456, 0.406], [0.229, 0.224, 0.225])\n",
        "    ])\n",
        "val_transform = transforms.Compose([\n",
        "    transforms.Resize((224, 224)),\n",
        "    transforms.ToTensor(),\n",
        "    transforms.Normalize([0.485, 0.456, 0.406], [0.229, 0.224, 0.225])\n",
        "    ])\n",
        "test_transform = transforms.Compose([\n",
        "    transforms.Resize((224, 224)),\n",
        "    transforms.ToTensor(),\n",
        "    transforms.Normalize([0.485, 0.456, 0.406], [0.229, 0.224, 0.225])\n",
        "    ])\n",
        "\n",
        "#downloadingn different instances of data for different transforms\n",
        "psdImages_dataset_training = datasets.ImageFolder(root=psdImages_path, transform=train_transform)\n",
        "psdImages_dataset_val = datasets.ImageFolder(root=psdImages_path, transform=val_transform)\n",
        "psdImages_dataset_testing = datasets.ImageFolder(root=psdImages_path, transform=test_transform)\n",
        "\n",
        "# Split the psdImages dataset into train and validation sets\n",
        "train_size = int(0.6 * len(psdImages_dataset_training))\n",
        "val_size = int(0.2 * len(psdImages_dataset_training))\n",
        "test_size = len(psdImages_dataset_training) - train_size - val_size\n",
        "\n",
        "#for transform of train\n",
        "train_dataset, _, _ = torch.utils.data.random_split(psdImages_dataset_training,\n",
        "                                                                         [train_size, val_size, test_size])\n",
        "#for transform of validation\n",
        "_, val_dataset, _ = torch.utils.data.random_split(psdImages_dataset_val,\n",
        "                                                                         [train_size, val_size, test_size])\n",
        "#for transform of testing\n",
        "_, _, test_dataset = torch.utils.data.random_split(psdImages_dataset_testing,\n",
        "                                                                         [train_size, val_size, test_size])\n",
        "\n",
        "# Apply the transforms to the datasets\n",
        "train_dataset.dataset.transform=train_transform\n",
        "val_dataset.dataset.transform=val_transform\n",
        "test_dataset.dataset.transform=test_transform\n",
        "\n",
        "# Create data loaders for psdImages\n",
        "train_loader = torch.utils.data.DataLoader(train_dataset, batch_size=128, shuffle=True)\n",
        "val_loader = torch.utils.data.DataLoader(val_dataset, batch_size=128, shuffle=False)\n",
        "test_loader = torch.utils.data.DataLoader(test_dataset, batch_size=128, shuffle=False)\n",
        "\n",
        "#Size Data\n",
        "num_classes_psdImages = len(psdImages_dataset_training.classes)\n",
        "print(\"Number of Classes: \",num_classes_psdImages)\n",
        "print(\"Train Size: \", train_size)\n",
        "print(\"Val Size: \", val_size)\n",
        "print(\"Test Size: \", test_size)\n",
        "\n",
        "print(\"Train Dataset Transform: \", train_dataset.dataset.transform)\n",
        "print(\"Validation Dataset Transform: \", val_dataset.dataset.transform)\n",
        "print(\"Test Dataset Transform: \", test_dataset.dataset.transform)\n",
        "\n",
        "class_indices = psdImages_dataset_training.class_to_idx\n",
        "print(class_indices)"
      ]
    },
    {
      "cell_type": "markdown",
      "source": [
        "#Checking the data type of the images after transforming"
      ],
      "metadata": {
        "id": "cWQlQhiXkAv0"
      }
    },
    {
      "cell_type": "code",
      "execution_count": 400,
      "metadata": {
        "id": "5ytvxUyjr8fL",
        "colab": {
          "base_uri": "https://localhost:8080/"
        },
        "outputId": "0582db77-1c3d-4f83-b563-ae920bf29c01"
      },
      "outputs": [
        {
          "output_type": "stream",
          "name": "stdout",
          "text": [
            "Train Loader Image Data Type: <class 'torch.Tensor'>\n",
            "Validation Loader Image Data Type: <class 'torch.Tensor'>\n",
            "Test Loader Image Data Type: <class 'torch.Tensor'>\n"
          ]
        }
      ],
      "source": [
        "# check the data type of images in a batch\n",
        "def check_image_data_type(loader):\n",
        "    data_iter = iter(loader)\n",
        "    images, labels = next(data_iter)\n",
        "    # Checking the data type of the images\n",
        "    data_type = type(images)\n",
        "    return data_type\n",
        "\n",
        "# Checking the data type for train_loader\n",
        "train_data_type = check_image_data_type(train_loader)\n",
        "print(\"Train Loader Image Data Type:\", train_data_type)\n",
        "\n",
        "# Checking the data type for val_loader\n",
        "val_data_type = check_image_data_type(val_loader)\n",
        "print(\"Validation Loader Image Data Type:\", val_data_type)\n",
        "\n",
        "# Checking the data type for test_loader\n",
        "test_data_type = check_image_data_type(test_loader)\n",
        "print(\"Test Loader Image Data Type:\", test_data_type)"
      ]
    },
    {
      "cell_type": "markdown",
      "source": [
        "#Displaying images after applying transfoms"
      ],
      "metadata": {
        "id": "LhRzn9ARkRC9"
      }
    },
    {
      "cell_type": "code",
      "execution_count": 401,
      "metadata": {
        "id": "G9XlzsalrAzp",
        "colab": {
          "base_uri": "https://localhost:8080/",
          "height": 830
        },
        "outputId": "15bcd9a3-b57b-4d0b-c77b-621b330ab98e"
      },
      "outputs": [
        {
          "output_type": "display_data",
          "data": {
            "text/plain": [
              "<Figure size 600x300 with 2 Axes>"
            ],
            "image/png": "[encoded data removed]"
          },
          "metadata": {}
        },
        {
          "output_type": "display_data",
          "data": {
            "text/plain": [
              "<Figure size 600x300 with 2 Axes>"
            ],
            "image/png": "[encoded data removed]"
          },
          "metadata": {}
        },
        {
          "output_type": "display_data",
          "data": {
            "text/plain": [
              "<Figure size 600x300 with 2 Axes>"
            ],
            "image/png": "[encoded data removed]"
          },
          "metadata": {}
        }
      ],
      "source": [
        "# display images after transforming\n",
        "def show_images(images, title):\n",
        "    num_images = len(images)\n",
        "    fig, axes = plt.subplots(1, num_images, figsize=(num_images * 3, 3))\n",
        "    fig.suptitle(title, fontsize=16)\n",
        "    for i in range(num_images):\n",
        "        ax = axes[i] if num_images > 1 else axes\n",
        "        # Normalizing\n",
        "        img = np.transpose(images[i].numpy(), (1, 2, 0))\n",
        "        img = (img - img.min()) / (img.max() - img.min())\n",
        "        ax.imshow(img)\n",
        "        ax.axis('off')\n",
        "        ax.set_title(f\"Sample {i + 1}\")\n",
        "    plt.show()\n",
        "\n",
        "# getting samples from the data loader\n",
        "def get_sample(loader):\n",
        "    data_iter = iter(loader)\n",
        "    images, labels = next(data_iter)\n",
        "    return images, labels\n",
        "\n",
        "# Getting sample from each dataset\n",
        "train_images, _ = get_sample(train_loader)\n",
        "val_images, _ = get_sample(val_loader)\n",
        "test_images, _ = get_sample(test_loader)\n",
        "\n",
        "# Showing transformed images according to the transformations applied in the previous step\n",
        "show_images([train_images[0], train_images[1]], \"Training Dataset\")\n",
        "show_images([val_images[0], val_images[1]], \"Validation Dataset\")\n",
        "show_images([test_images[0], test_images[1]], \"Test Dataset\")\n"
      ]
    },
    {
      "cell_type": "markdown",
      "source": [
        "#Downloading the model resnet50 and its weights"
      ],
      "metadata": {
        "id": "RyFaG8wqk4-U"
      }
    },
    {
      "cell_type": "code",
      "execution_count": 402,
      "metadata": {
        "id": "pmzwnuFHFOMr",
        "colab": {
          "base_uri": "https://localhost:8080/"
        },
        "outputId": "23549c86-aa6d-45cb-959b-e04aabdeb85c"
      },
      "outputs": [
        {
          "output_type": "stream",
          "name": "stdout",
          "text": [
            "Looking in indexes: https://download.pytorch.org/whl/cu118\n",
            "Requirement already satisfied: torch==2.1.0 in /usr/local/lib/python3.10/dist-packages (2.1.0+cu118)\n",
            "Requirement already satisfied: torchvision==0.16.0 in /usr/local/lib/python3.10/dist-packages (0.16.0+cu118)\n",
            "Requirement already satisfied: filelock in /usr/local/lib/python3.10/dist-packages (from torch==2.1.0) (3.14.0)\n",
            "Requirement already satisfied: typing-extensions in /usr/local/lib/python3.10/dist-packages (from torch==2.1.0) (4.11.0)\n",
            "Requirement already satisfied: sympy in /usr/local/lib/python3.10/dist-packages (from torch==2.1.0) (1.12)\n",
            "Requirement already satisfied: networkx in /usr/local/lib/python3.10/dist-packages (from torch==2.1.0) (3.3)\n",
            "Requirement already satisfied: jinja2 in /usr/local/lib/python3.10/dist-packages (from torch==2.1.0) (3.1.4)\n",
            "Requirement already satisfied: fsspec in /usr/local/lib/python3.10/dist-packages (from torch==2.1.0) (2023.6.0)\n",
            "Requirement already satisfied: triton==2.1.0 in /usr/local/lib/python3.10/dist-packages (from torch==2.1.0) (2.1.0)\n",
            "Requirement already satisfied: numpy in /usr/local/lib/python3.10/dist-packages (from torchvision==0.16.0) (1.25.2)\n",
            "Requirement already satisfied: requests in /usr/local/lib/python3.10/dist-packages (from torchvision==0.16.0) (2.31.0)\n",
            "Requirement already satisfied: pillow!=8.3.*,>=5.3.0 in /usr/local/lib/python3.10/dist-packages (from torchvision==0.16.0) (9.4.0)\n",
            "Requirement already satisfied: MarkupSafe>=2.0 in /usr/local/lib/python3.10/dist-packages (from jinja2->torch==2.1.0) (2.1.5)\n",
            "Requirement already satisfied: charset-normalizer<4,>=2 in /usr/local/lib/python3.10/dist-packages (from requests->torchvision==0.16.0) (3.3.2)\n",
            "Requirement already satisfied: idna<4,>=2.5 in /usr/local/lib/python3.10/dist-packages (from requests->torchvision==0.16.0) (3.7)\n",
            "Requirement already satisfied: urllib3<3,>=1.21.1 in /usr/local/lib/python3.10/dist-packages (from requests->torchvision==0.16.0) (2.0.7)\n",
            "Requirement already satisfied: certifi>=2017.4.17 in /usr/local/lib/python3.10/dist-packages (from requests->torchvision==0.16.0) (2024.2.2)\n",
            "Requirement already satisfied: mpmath>=0.19 in /usr/local/lib/python3.10/dist-packages (from sympy->torch==2.1.0) (1.3.0)\n"
          ]
        },
        {
          "output_type": "stream",
          "name": "stderr",
          "text": [
            "Downloading: \"https://download.pytorch.org/models/resnet101-cd907fc2.pth\" to /root/.cache/torch/hub/checkpoints/resnet101-cd907fc2.pth\n",
            "100%|██████████| 171M/171M [00:01<00:00, 155MB/s]\n"
          ]
        },
        {
          "output_type": "stream",
          "name": "stdout",
          "text": [
            "ResNet(\n",
            "  (conv1): Conv2d(3, 64, kernel_size=(7, 7), stride=(2, 2), padding=(3, 3), bias=False)\n",
            "  (bn1): BatchNorm2d(64, eps=1e-05, momentum=0.1, affine=True, track_running_stats=True)\n",
            "  (relu): ReLU(inplace=True)\n",
            "  (maxpool): MaxPool2d(kernel_size=3, stride=2, padding=1, dilation=1, ceil_mode=False)\n",
            "  (layer1): Sequential(\n",
            "    (0): Bottleneck(\n",
            "      (conv1): Conv2d(64, 64, kernel_size=(1, 1), stride=(1, 1), bias=False)\n",
            "      (bn1): BatchNorm2d(64, eps=1e-05, momentum=0.1, affine=True, track_running_stats=True)\n",
            "      (conv2): Conv2d(64, 64, kernel_size=(3, 3), stride=(1, 1), padding=(1, 1), bias=False)\n",
            "      (bn2): BatchNorm2d(64, eps=1e-05, momentum=0.1, affine=True, track_running_stats=True)\n",
            "      (conv3): Conv2d(64, 256, kernel_size=(1, 1), stride=(1, 1), bias=False)\n",
            "      (bn3): BatchNorm2d(256, eps=1e-05, momentum=0.1, affine=True, track_running_stats=True)\n",
            "      (relu): ReLU(inplace=True)\n",
            "      (downsample): Sequential(\n",
            "        (0): Conv2d(64, 256, kernel_size=(1, 1), stride=(1, 1), bias=False)\n",
            "        (1): BatchNorm2d(256, eps=1e-05, momentum=0.1, affine=True, track_running_stats=True)\n",
            "      )\n",
            "    )\n",
            "    (1): Bottleneck(\n",
            "      (conv1): Conv2d(256, 64, kernel_size=(1, 1), stride=(1, 1), bias=False)\n",
            "      (bn1): BatchNorm2d(64, eps=1e-05, momentum=0.1, affine=True, track_running_stats=True)\n",
            "      (conv2): Conv2d(64, 64, kernel_size=(3, 3), stride=(1, 1), padding=(1, 1), bias=False)\n",
            "      (bn2): BatchNorm2d(64, eps=1e-05, momentum=0.1, affine=True, track_running_stats=True)\n",
            "      (conv3): Conv2d(64, 256, kernel_size=(1, 1), stride=(1, 1), bias=False)\n",
            "      (bn3): BatchNorm2d(256, eps=1e-05, momentum=0.1, affine=True, track_running_stats=True)\n",
            "      (relu): ReLU(inplace=True)\n",
            "    )\n",
            "    (2): Bottleneck(\n",
            "      (conv1): Conv2d(256, 64, kernel_size=(1, 1), stride=(1, 1), bias=False)\n",
            "      (bn1): BatchNorm2d(64, eps=1e-05, momentum=0.1, affine=True, track_running_stats=True)\n",
            "      (conv2): Conv2d(64, 64, kernel_size=(3, 3), stride=(1, 1), padding=(1, 1), bias=False)\n",
            "      (bn2): BatchNorm2d(64, eps=1e-05, momentum=0.1, affine=True, track_running_stats=True)\n",
            "      (conv3): Conv2d(64, 256, kernel_size=(1, 1), stride=(1, 1), bias=False)\n",
            "      (bn3): BatchNorm2d(256, eps=1e-05, momentum=0.1, affine=True, track_running_stats=True)\n",
            "      (relu): ReLU(inplace=True)\n",
            "    )\n",
            "  )\n",
            "  (layer2): Sequential(\n",
            "    (0): Bottleneck(\n",
            "      (conv1): Conv2d(256, 128, kernel_size=(1, 1), stride=(1, 1), bias=False)\n",
            "      (bn1): BatchNorm2d(128, eps=1e-05, momentum=0.1, affine=True, track_running_stats=True)\n",
            "      (conv2): Conv2d(128, 128, kernel_size=(3, 3), stride=(2, 2), padding=(1, 1), bias=False)\n",
            "      (bn2): BatchNorm2d(128, eps=1e-05, momentum=0.1, affine=True, track_running_stats=True)\n",
            "      (conv3): Conv2d(128, 512, kernel_size=(1, 1), stride=(1, 1), bias=False)\n",
            "      (bn3): BatchNorm2d(512, eps=1e-05, momentum=0.1, affine=True, track_running_stats=True)\n",
            "      (relu): ReLU(inplace=True)\n",
            "      (downsample): Sequential(\n",
            "        (0): Conv2d(256, 512, kernel_size=(1, 1), stride=(2, 2), bias=False)\n",
            "        (1): BatchNorm2d(512, eps=1e-05, momentum=0.1, affine=True, track_running_stats=True)\n",
            "      )\n",
            "    )\n",
            "    (1): Bottleneck(\n",
            "      (conv1): Conv2d(512, 128, kernel_size=(1, 1), stride=(1, 1), bias=False)\n",
            "      (bn1): BatchNorm2d(128, eps=1e-05, momentum=0.1, affine=True, track_running_stats=True)\n",
            "      (conv2): Conv2d(128, 128, kernel_size=(3, 3), stride=(1, 1), padding=(1, 1), bias=False)\n",
            "      (bn2): BatchNorm2d(128, eps=1e-05, momentum=0.1, affine=True, track_running_stats=True)\n",
            "      (conv3): Conv2d(128, 512, kernel_size=(1, 1), stride=(1, 1), bias=False)\n",
            "      (bn3): BatchNorm2d(512, eps=1e-05, momentum=0.1, affine=True, track_running_stats=True)\n",
            "      (relu): ReLU(inplace=True)\n",
            "    )\n",
            "    (2): Bottleneck(\n",
            "      (conv1): Conv2d(512, 128, kernel_size=(1, 1), stride=(1, 1), bias=False)\n",
            "      (bn1): BatchNorm2d(128, eps=1e-05, momentum=0.1, affine=True, track_running_stats=True)\n",
            "      (conv2): Conv2d(128, 128, kernel_size=(3, 3), stride=(1, 1), padding=(1, 1), bias=False)\n",
            "      (bn2): BatchNorm2d(128, eps=1e-05, momentum=0.1, affine=True, track_running_stats=True)\n",
            "      (conv3): Conv2d(128, 512, kernel_size=(1, 1), stride=(1, 1), bias=False)\n",
            "      (bn3): BatchNorm2d(512, eps=1e-05, momentum=0.1, affine=True, track_running_stats=True)\n",
            "      (relu): ReLU(inplace=True)\n",
            "    )\n",
            "    (3): Bottleneck(\n",
            "      (conv1): Conv2d(512, 128, kernel_size=(1, 1), stride=(1, 1), bias=False)\n",
            "      (bn1): BatchNorm2d(128, eps=1e-05, momentum=0.1, affine=True, track_running_stats=True)\n",
            "      (conv2): Conv2d(128, 128, kernel_size=(3, 3), stride=(1, 1), padding=(1, 1), bias=False)\n",
            "      (bn2): BatchNorm2d(128, eps=1e-05, momentum=0.1, affine=True, track_running_stats=True)\n",
            "      (conv3): Conv2d(128, 512, kernel_size=(1, 1), stride=(1, 1), bias=False)\n",
            "      (bn3): BatchNorm2d(512, eps=1e-05, momentum=0.1, affine=True, track_running_stats=True)\n",
            "      (relu): ReLU(inplace=True)\n",
            "    )\n",
            "  )\n",
            "  (layer3): Sequential(\n",
            "    (0): Bottleneck(\n",
            "      (conv1): Conv2d(512, 256, kernel_size=(1, 1), stride=(1, 1), bias=False)\n",
            "      (bn1): BatchNorm2d(256, eps=1e-05, momentum=0.1, affine=True, track_running_stats=True)\n",
            "      (conv2): Conv2d(256, 256, kernel_size=(3, 3), stride=(2, 2), padding=(1, 1), bias=False)\n",
            "      (bn2): BatchNorm2d(256, eps=1e-05, momentum=0.1, affine=True, track_running_stats=True)\n",
            "      (conv3): Conv2d(256, 1024, kernel_size=(1, 1), stride=(1, 1), bias=False)\n",
            "      (bn3): BatchNorm2d(1024, eps=1e-05, momentum=0.1, affine=True, track_running_stats=True)\n",
            "      (relu): ReLU(inplace=True)\n",
            "      (downsample): Sequential(\n",
            "        (0): Conv2d(512, 1024, kernel_size=(1, 1), stride=(2, 2), bias=False)\n",
            "        (1): BatchNorm2d(1024, eps=1e-05, momentum=0.1, affine=True, track_running_stats=True)\n",
            "      )\n",
            "    )\n",
            "    (1): Bottleneck(\n",
            "      (conv1): Conv2d(1024, 256, kernel_size=(1, 1), stride=(1, 1), bias=False)\n",
            "      (bn1): BatchNorm2d(256, eps=1e-05, momentum=0.1, affine=True, track_running_stats=True)\n",
            "      (conv2): Conv2d(256, 256, kernel_size=(3, 3), stride=(1, 1), padding=(1, 1), bias=False)\n",
            "      (bn2): BatchNorm2d(256, eps=1e-05, momentum=0.1, affine=True, track_running_stats=True)\n",
            "      (conv3): Conv2d(256, 1024, kernel_size=(1, 1), stride=(1, 1), bias=False)\n",
            "      (bn3): BatchNorm2d(1024, eps=1e-05, momentum=0.1, affine=True, track_running_stats=True)\n",
            "      (relu): ReLU(inplace=True)\n",
            "    )\n",
            "    (2): Bottleneck(\n",
            "      (conv1): Conv2d(1024, 256, kernel_size=(1, 1), stride=(1, 1), bias=False)\n",
            "      (bn1): BatchNorm2d(256, eps=1e-05, momentum=0.1, affine=True, track_running_stats=True)\n",
            "      (conv2): Conv2d(256, 256, kernel_size=(3, 3), stride=(1, 1), padding=(1, 1), bias=False)\n",
            "      (bn2): BatchNorm2d(256, eps=1e-05, momentum=0.1, affine=True, track_running_stats=True)\n",
            "      (conv3): Conv2d(256, 1024, kernel_size=(1, 1), stride=(1, 1), bias=False)\n",
            "      (bn3): BatchNorm2d(1024, eps=1e-05, momentum=0.1, affine=True, track_running_stats=True)\n",
            "      (relu): ReLU(inplace=True)\n",
            "    )\n",
            "    (3): Bottleneck(\n",
            "      (conv1): Conv2d(1024, 256, kernel_size=(1, 1), stride=(1, 1), bias=False)\n",
            "      (bn1): BatchNorm2d(256, eps=1e-05, momentum=0.1, affine=True, track_running_stats=True)\n",
            "      (conv2): Conv2d(256, 256, kernel_size=(3, 3), stride=(1, 1), padding=(1, 1), bias=False)\n",
            "      (bn2): BatchNorm2d(256, eps=1e-05, momentum=0.1, affine=True, track_running_stats=True)\n",
            "      (conv3): Conv2d(256, 1024, kernel_size=(1, 1), stride=(1, 1), bias=False)\n",
            "      (bn3): BatchNorm2d(1024, eps=1e-05, momentum=0.1, affine=True, track_running_stats=True)\n",
            "      (relu): ReLU(inplace=True)\n",
            "    )\n",
            "    (4): Bottleneck(\n",
            "      (conv1): Conv2d(1024, 256, kernel_size=(1, 1), stride=(1, 1), bias=False)\n",
            "      (bn1): BatchNorm2d(256, eps=1e-05, momentum=0.1, affine=True, track_running_stats=True)\n",
            "      (conv2): Conv2d(256, 256, kernel_size=(3, 3), stride=(1, 1), padding=(1, 1), bias=False)\n",
            "      (bn2): BatchNorm2d(256, eps=1e-05, momentum=0.1, affine=True, track_running_stats=True)\n",
            "      (conv3): Conv2d(256, 1024, kernel_size=(1, 1), stride=(1, 1), bias=False)\n",
            "      (bn3): BatchNorm2d(1024, eps=1e-05, momentum=0.1, affine=True, track_running_stats=True)\n",
            "      (relu): ReLU(inplace=True)\n",
            "    )\n",
            "    (5): Bottleneck(\n",
            "      (conv1): Conv2d(1024, 256, kernel_size=(1, 1), stride=(1, 1), bias=False)\n",
            "      (bn1): BatchNorm2d(256, eps=1e-05, momentum=0.1, affine=True, track_running_stats=True)\n",
            "      (conv2): Conv2d(256, 256, kernel_size=(3, 3), stride=(1, 1), padding=(1, 1), bias=False)\n",
            "      (bn2): BatchNorm2d(256, eps=1e-05, momentum=0.1, affine=True, track_running_stats=True)\n",
            "      (conv3): Conv2d(256, 1024, kernel_size=(1, 1), stride=(1, 1), bias=False)\n",
            "      (bn3): BatchNorm2d(1024, eps=1e-05, momentum=0.1, affine=True, track_running_stats=True)\n",
            "      (relu): ReLU(inplace=True)\n",
            "    )\n",
            "    (6): Bottleneck(\n",
            "      (conv1): Conv2d(1024, 256, kernel_size=(1, 1), stride=(1, 1), bias=False)\n",
            "      (bn1): BatchNorm2d(256, eps=1e-05, momentum=0.1, affine=True, track_running_stats=True)\n",
            "      (conv2): Conv2d(256, 256, kernel_size=(3, 3), stride=(1, 1), padding=(1, 1), bias=False)\n",
            "      (bn2): BatchNorm2d(256, eps=1e-05, momentum=0.1, affine=True, track_running_stats=True)\n",
            "      (conv3): Conv2d(256, 1024, kernel_size=(1, 1), stride=(1, 1), bias=False)\n",
            "      (bn3): BatchNorm2d(1024, eps=1e-05, momentum=0.1, affine=True, track_running_stats=True)\n",
            "      (relu): ReLU(inplace=True)\n",
            "    )\n",
            "    (7): Bottleneck(\n",
            "      (conv1): Conv2d(1024, 256, kernel_size=(1, 1), stride=(1, 1), bias=False)\n",
            "      (bn1): BatchNorm2d(256, eps=1e-05, momentum=0.1, affine=True, track_running_stats=True)\n",
            "      (conv2): Conv2d(256, 256, kernel_size=(3, 3), stride=(1, 1), padding=(1, 1), bias=False)\n",
            "      (bn2): BatchNorm2d(256, eps=1e-05, momentum=0.1, affine=True, track_running_stats=True)\n",
            "      (conv3): Conv2d(256, 1024, kernel_size=(1, 1), stride=(1, 1), bias=False)\n",
            "      (bn3): BatchNorm2d(1024, eps=1e-05, momentum=0.1, affine=True, track_running_stats=True)\n",
            "      (relu): ReLU(inplace=True)\n",
            "    )\n",
            "    (8): Bottleneck(\n",
            "      (conv1): Conv2d(1024, 256, kernel_size=(1, 1), stride=(1, 1), bias=False)\n",
            "      (bn1): BatchNorm2d(256, eps=1e-05, momentum=0.1, affine=True, track_running_stats=True)\n",
            "      (conv2): Conv2d(256, 256, kernel_size=(3, 3), stride=(1, 1), padding=(1, 1), bias=False)\n",
            "      (bn2): BatchNorm2d(256, eps=1e-05, momentum=0.1, affine=True, track_running_stats=True)\n",
            "      (conv3): Conv2d(256, 1024, kernel_size=(1, 1), stride=(1, 1), bias=False)\n",
            "      (bn3): BatchNorm2d(1024, eps=1e-05, momentum=0.1, affine=True, track_running_stats=True)\n",
            "      (relu): ReLU(inplace=True)\n",
            "    )\n",
            "    (9): Bottleneck(\n",
            "      (conv1): Conv2d(1024, 256, kernel_size=(1, 1), stride=(1, 1), bias=False)\n",
            "      (bn1): BatchNorm2d(256, eps=1e-05, momentum=0.1, affine=True, track_running_stats=True)\n",
            "      (conv2): Conv2d(256, 256, kernel_size=(3, 3), stride=(1, 1), padding=(1, 1), bias=False)\n",
            "      (bn2): BatchNorm2d(256, eps=1e-05, momentum=0.1, affine=True, track_running_stats=True)\n",
            "      (conv3): Conv2d(256, 1024, kernel_size=(1, 1), stride=(1, 1), bias=False)\n",
            "      (bn3): BatchNorm2d(1024, eps=1e-05, momentum=0.1, affine=True, track_running_stats=True)\n",
            "      (relu): ReLU(inplace=True)\n",
            "    )\n",
            "    (10): Bottleneck(\n",
            "      (conv1): Conv2d(1024, 256, kernel_size=(1, 1), stride=(1, 1), bias=False)\n",
            "      (bn1): BatchNorm2d(256, eps=1e-05, momentum=0.1, affine=True, track_running_stats=True)\n",
            "      (conv2): Conv2d(256, 256, kernel_size=(3, 3), stride=(1, 1), padding=(1, 1), bias=False)\n",
            "      (bn2): BatchNorm2d(256, eps=1e-05, momentum=0.1, affine=True, track_running_stats=True)\n",
            "      (conv3): Conv2d(256, 1024, kernel_size=(1, 1), stride=(1, 1), bias=False)\n",
            "      (bn3): BatchNorm2d(1024, eps=1e-05, momentum=0.1, affine=True, track_running_stats=True)\n",
            "      (relu): ReLU(inplace=True)\n",
            "    )\n",
            "    (11): Bottleneck(\n",
            "      (conv1): Conv2d(1024, 256, kernel_size=(1, 1), stride=(1, 1), bias=False)\n",
            "      (bn1): BatchNorm2d(256, eps=1e-05, momentum=0.1, affine=True, track_running_stats=True)\n",
            "      (conv2): Conv2d(256, 256, kernel_size=(3, 3), stride=(1, 1), padding=(1, 1), bias=False)\n",
            "      (bn2): BatchNorm2d(256, eps=1e-05, momentum=0.1, affine=True, track_running_stats=True)\n",
            "      (conv3): Conv2d(256, 1024, kernel_size=(1, 1), stride=(1, 1), bias=False)\n",
            "      (bn3): BatchNorm2d(1024, eps=1e-05, momentum=0.1, affine=True, track_running_stats=True)\n",
            "      (relu): ReLU(inplace=True)\n",
            "    )\n",
            "    (12): Bottleneck(\n",
            "      (conv1): Conv2d(1024, 256, kernel_size=(1, 1), stride=(1, 1), bias=False)\n",
            "      (bn1): BatchNorm2d(256, eps=1e-05, momentum=0.1, affine=True, track_running_stats=True)\n",
            "      (conv2): Conv2d(256, 256, kernel_size=(3, 3), stride=(1, 1), padding=(1, 1), bias=False)\n",
            "      (bn2): BatchNorm2d(256, eps=1e-05, momentum=0.1, affine=True, track_running_stats=True)\n",
            "      (conv3): Conv2d(256, 1024, kernel_size=(1, 1), stride=(1, 1), bias=False)\n",
            "      (bn3): BatchNorm2d(1024, eps=1e-05, momentum=0.1, affine=True, track_running_stats=True)\n",
            "      (relu): ReLU(inplace=True)\n",
            "    )\n",
            "    (13): Bottleneck(\n",
            "      (conv1): Conv2d(1024, 256, kernel_size=(1, 1), stride=(1, 1), bias=False)\n",
            "      (bn1): BatchNorm2d(256, eps=1e-05, momentum=0.1, affine=True, track_running_stats=True)\n",
            "      (conv2): Conv2d(256, 256, kernel_size=(3, 3), stride=(1, 1), padding=(1, 1), bias=False)\n",
            "      (bn2): BatchNorm2d(256, eps=1e-05, momentum=0.1, affine=True, track_running_stats=True)\n",
            "      (conv3): Conv2d(256, 1024, kernel_size=(1, 1), stride=(1, 1), bias=False)\n",
            "      (bn3): BatchNorm2d(1024, eps=1e-05, momentum=0.1, affine=True, track_running_stats=True)\n",
            "      (relu): ReLU(inplace=True)\n",
            "    )\n",
            "    (14): Bottleneck(\n",
            "      (conv1): Conv2d(1024, 256, kernel_size=(1, 1), stride=(1, 1), bias=False)\n",
            "      (bn1): BatchNorm2d(256, eps=1e-05, momentum=0.1, affine=True, track_running_stats=True)\n",
            "      (conv2): Conv2d(256, 256, kernel_size=(3, 3), stride=(1, 1), padding=(1, 1), bias=False)\n",
            "      (bn2): BatchNorm2d(256, eps=1e-05, momentum=0.1, affine=True, track_running_stats=True)\n",
            "      (conv3): Conv2d(256, 1024, kernel_size=(1, 1), stride=(1, 1), bias=False)\n",
            "      (bn3): BatchNorm2d(1024, eps=1e-05, momentum=0.1, affine=True, track_running_stats=True)\n",
            "      (relu): ReLU(inplace=True)\n",
            "    )\n",
            "    (15): Bottleneck(\n",
            "      (conv1): Conv2d(1024, 256, kernel_size=(1, 1), stride=(1, 1), bias=False)\n",
            "      (bn1): BatchNorm2d(256, eps=1e-05, momentum=0.1, affine=True, track_running_stats=True)\n",
            "      (conv2): Conv2d(256, 256, kernel_size=(3, 3), stride=(1, 1), padding=(1, 1), bias=False)\n",
            "      (bn2): BatchNorm2d(256, eps=1e-05, momentum=0.1, affine=True, track_running_stats=True)\n",
            "      (conv3): Conv2d(256, 1024, kernel_size=(1, 1), stride=(1, 1), bias=False)\n",
            "      (bn3): BatchNorm2d(1024, eps=1e-05, momentum=0.1, affine=True, track_running_stats=True)\n",
            "      (relu): ReLU(inplace=True)\n",
            "    )\n",
            "    (16): Bottleneck(\n",
            "      (conv1): Conv2d(1024, 256, kernel_size=(1, 1), stride=(1, 1), bias=False)\n",
            "      (bn1): BatchNorm2d(256, eps=1e-05, momentum=0.1, affine=True, track_running_stats=True)\n",
            "      (conv2): Conv2d(256, 256, kernel_size=(3, 3), stride=(1, 1), padding=(1, 1), bias=False)\n",
            "      (bn2): BatchNorm2d(256, eps=1e-05, momentum=0.1, affine=True, track_running_stats=True)\n",
            "      (conv3): Conv2d(256, 1024, kernel_size=(1, 1), stride=(1, 1), bias=False)\n",
            "      (bn3): BatchNorm2d(1024, eps=1e-05, momentum=0.1, affine=True, track_running_stats=True)\n",
            "      (relu): ReLU(inplace=True)\n",
            "    )\n",
            "    (17): Bottleneck(\n",
            "      (conv1): Conv2d(1024, 256, kernel_size=(1, 1), stride=(1, 1), bias=False)\n",
            "      (bn1): BatchNorm2d(256, eps=1e-05, momentum=0.1, affine=True, track_running_stats=True)\n",
            "      (conv2): Conv2d(256, 256, kernel_size=(3, 3), stride=(1, 1), padding=(1, 1), bias=False)\n",
            "      (bn2): BatchNorm2d(256, eps=1e-05, momentum=0.1, affine=True, track_running_stats=True)\n",
            "      (conv3): Conv2d(256, 1024, kernel_size=(1, 1), stride=(1, 1), bias=False)\n",
            "      (bn3): BatchNorm2d(1024, eps=1e-05, momentum=0.1, affine=True, track_running_stats=True)\n",
            "      (relu): ReLU(inplace=True)\n",
            "    )\n",
            "    (18): Bottleneck(\n",
            "      (conv1): Conv2d(1024, 256, kernel_size=(1, 1), stride=(1, 1), bias=False)\n",
            "      (bn1): BatchNorm2d(256, eps=1e-05, momentum=0.1, affine=True, track_running_stats=True)\n",
            "      (conv2): Conv2d(256, 256, kernel_size=(3, 3), stride=(1, 1), padding=(1, 1), bias=False)\n",
            "      (bn2): BatchNorm2d(256, eps=1e-05, momentum=0.1, affine=True, track_running_stats=True)\n",
            "      (conv3): Conv2d(256, 1024, kernel_size=(1, 1), stride=(1, 1), bias=False)\n",
            "      (bn3): BatchNorm2d(1024, eps=1e-05, momentum=0.1, affine=True, track_running_stats=True)\n",
            "      (relu): ReLU(inplace=True)\n",
            "    )\n",
            "    (19): Bottleneck(\n",
            "      (conv1): Conv2d(1024, 256, kernel_size=(1, 1), stride=(1, 1), bias=False)\n",
            "      (bn1): BatchNorm2d(256, eps=1e-05, momentum=0.1, affine=True, track_running_stats=True)\n",
            "      (conv2): Conv2d(256, 256, kernel_size=(3, 3), stride=(1, 1), padding=(1, 1), bias=False)\n",
            "      (bn2): BatchNorm2d(256, eps=1e-05, momentum=0.1, affine=True, track_running_stats=True)\n",
            "      (conv3): Conv2d(256, 1024, kernel_size=(1, 1), stride=(1, 1), bias=False)\n",
            "      (bn3): BatchNorm2d(1024, eps=1e-05, momentum=0.1, affine=True, track_running_stats=True)\n",
            "      (relu): ReLU(inplace=True)\n",
            "    )\n",
            "    (20): Bottleneck(\n",
            "      (conv1): Conv2d(1024, 256, kernel_size=(1, 1), stride=(1, 1), bias=False)\n",
            "      (bn1): BatchNorm2d(256, eps=1e-05, momentum=0.1, affine=True, track_running_stats=True)\n",
            "      (conv2): Conv2d(256, 256, kernel_size=(3, 3), stride=(1, 1), padding=(1, 1), bias=False)\n",
            "      (bn2): BatchNorm2d(256, eps=1e-05, momentum=0.1, affine=True, track_running_stats=True)\n",
            "      (conv3): Conv2d(256, 1024, kernel_size=(1, 1), stride=(1, 1), bias=False)\n",
            "      (bn3): BatchNorm2d(1024, eps=1e-05, momentum=0.1, affine=True, track_running_stats=True)\n",
            "      (relu): ReLU(inplace=True)\n",
            "    )\n",
            "    (21): Bottleneck(\n",
            "      (conv1): Conv2d(1024, 256, kernel_size=(1, 1), stride=(1, 1), bias=False)\n",
            "      (bn1): BatchNorm2d(256, eps=1e-05, momentum=0.1, affine=True, track_running_stats=True)\n",
            "      (conv2): Conv2d(256, 256, kernel_size=(3, 3), stride=(1, 1), padding=(1, 1), bias=False)\n",
            "      (bn2): BatchNorm2d(256, eps=1e-05, momentum=0.1, affine=True, track_running_stats=True)\n",
            "      (conv3): Conv2d(256, 1024, kernel_size=(1, 1), stride=(1, 1), bias=False)\n",
            "      (bn3): BatchNorm2d(1024, eps=1e-05, momentum=0.1, affine=True, track_running_stats=True)\n",
            "      (relu): ReLU(inplace=True)\n",
            "    )\n",
            "    (22): Bottleneck(\n",
            "      (conv1): Conv2d(1024, 256, kernel_size=(1, 1), stride=(1, 1), bias=False)\n",
            "      (bn1): BatchNorm2d(256, eps=1e-05, momentum=0.1, affine=True, track_running_stats=True)\n",
            "      (conv2): Conv2d(256, 256, kernel_size=(3, 3), stride=(1, 1), padding=(1, 1), bias=False)\n",
            "      (bn2): BatchNorm2d(256, eps=1e-05, momentum=0.1, affine=True, track_running_stats=True)\n",
            "      (conv3): Conv2d(256, 1024, kernel_size=(1, 1), stride=(1, 1), bias=False)\n",
            "      (bn3): BatchNorm2d(1024, eps=1e-05, momentum=0.1, affine=True, track_running_stats=True)\n",
            "      (relu): ReLU(inplace=True)\n",
            "    )\n",
            "  )\n",
            "  (layer4): Sequential(\n",
            "    (0): Bottleneck(\n",
            "      (conv1): Conv2d(1024, 512, kernel_size=(1, 1), stride=(1, 1), bias=False)\n",
            "      (bn1): BatchNorm2d(512, eps=1e-05, momentum=0.1, affine=True, track_running_stats=True)\n",
            "      (conv2): Conv2d(512, 512, kernel_size=(3, 3), stride=(2, 2), padding=(1, 1), bias=False)\n",
            "      (bn2): BatchNorm2d(512, eps=1e-05, momentum=0.1, affine=True, track_running_stats=True)\n",
            "      (conv3): Conv2d(512, 2048, kernel_size=(1, 1), stride=(1, 1), bias=False)\n",
            "      (bn3): BatchNorm2d(2048, eps=1e-05, momentum=0.1, affine=True, track_running_stats=True)\n",
            "      (relu): ReLU(inplace=True)\n",
            "      (downsample): Sequential(\n",
            "        (0): Conv2d(1024, 2048, kernel_size=(1, 1), stride=(2, 2), bias=False)\n",
            "        (1): BatchNorm2d(2048, eps=1e-05, momentum=0.1, affine=True, track_running_stats=True)\n",
            "      )\n",
            "    )\n",
            "    (1): Bottleneck(\n",
            "      (conv1): Conv2d(2048, 512, kernel_size=(1, 1), stride=(1, 1), bias=False)\n",
            "      (bn1): BatchNorm2d(512, eps=1e-05, momentum=0.1, affine=True, track_running_stats=True)\n",
            "      (conv2): Conv2d(512, 512, kernel_size=(3, 3), stride=(1, 1), padding=(1, 1), bias=False)\n",
            "      (bn2): BatchNorm2d(512, eps=1e-05, momentum=0.1, affine=True, track_running_stats=True)\n",
            "      (conv3): Conv2d(512, 2048, kernel_size=(1, 1), stride=(1, 1), bias=False)\n",
            "      (bn3): BatchNorm2d(2048, eps=1e-05, momentum=0.1, affine=True, track_running_stats=True)\n",
            "      (relu): ReLU(inplace=True)\n",
            "    )\n",
            "    (2): Bottleneck(\n",
            "      (conv1): Conv2d(2048, 512, kernel_size=(1, 1), stride=(1, 1), bias=False)\n",
            "      (bn1): BatchNorm2d(512, eps=1e-05, momentum=0.1, affine=True, track_running_stats=True)\n",
            "      (conv2): Conv2d(512, 512, kernel_size=(3, 3), stride=(1, 1), padding=(1, 1), bias=False)\n",
            "      (bn2): BatchNorm2d(512, eps=1e-05, momentum=0.1, affine=True, track_running_stats=True)\n",
            "      (conv3): Conv2d(512, 2048, kernel_size=(1, 1), stride=(1, 1), bias=False)\n",
            "      (bn3): BatchNorm2d(2048, eps=1e-05, momentum=0.1, affine=True, track_running_stats=True)\n",
            "      (relu): ReLU(inplace=True)\n",
            "    )\n",
            "  )\n",
            "  (avgpool): AdaptiveAvgPool2d(output_size=(1, 1))\n",
            "  (fc): Linear(in_features=2048, out_features=1000, bias=True)\n",
            ")\n"
          ]
        }
      ],
      "source": [
        "#!pip install torch torchvision torchaudio --index-url https://download.pytorch.org/whl/cu118\n",
        "\n",
        "!pip install torch==2.1.0 torchvision==0.16.0 --index-url https://download.pytorch.org/whl/cu118\n",
        "# Choose a Dl architecture\n",
        "from torchvision.models import resnet101\n",
        "\n",
        "# Load pre-trained ResNet50 model\n",
        "weights=\"IMAGENET1K_V2\"\n",
        "pretrained_model = resnet101(weights=weights)\n",
        "pretrained_model = pretrained_model.to(device)\n",
        "\n",
        "print(pretrained_model)"
      ]
    },
    {
      "cell_type": "markdown",
      "source": [
        "#Checking the model summary"
      ],
      "metadata": {
        "id": "l_Vws-dVmiEq"
      }
    },
    {
      "cell_type": "code",
      "execution_count": 403,
      "metadata": {
        "id": "EFfM_3YKPCIz",
        "colab": {
          "base_uri": "https://localhost:8080/"
        },
        "outputId": "9fcc3f89-c9b5-44fb-9878-94e233ebcb87"
      },
      "outputs": [
        {
          "output_type": "stream",
          "name": "stdout",
          "text": [
            "Requirement already satisfied: torchsummary in /usr/local/lib/python3.10/dist-packages (1.5.1)\n"
          ]
        }
      ],
      "source": [
        "!pip install torchsummary\n",
        "from torchsummary import summary\n",
        "\n",
        "#summary(pretrained_model, (3, 224, 224))"
      ]
    },
    {
      "cell_type": "markdown",
      "source": [
        "#Modifying final layer to align with the dataset classes"
      ],
      "metadata": {
        "id": "r4j-4elzm4eC"
      }
    },
    {
      "cell_type": "code",
      "execution_count": 404,
      "metadata": {
        "id": "55TZJPvUSVkd"
      },
      "outputs": [],
      "source": [
        "# unfreeze all layers\n",
        "for param in pretrained_model.parameters():\n",
        "    param.requires_grad = True\n",
        "    param.data = param.data.to(device)\n",
        "\n",
        "# Modifying final layer\n",
        "num_classes_psdImages = len(psdImages_dataset_training.classes)\n",
        "dropout = 0.5\n",
        "pretrained_model.fc = nn.Sequential(\n",
        "    nn.Dropout(p=dropout),\n",
        "    nn.Linear(pretrained_model.fc.in_features, num_classes_psdImages)\n",
        ")\n",
        "\n",
        "pretrained_model = pretrained_model.to(device)\n",
        "\n",
        "#pretrained_model"
      ]
    },
    {
      "cell_type": "markdown",
      "source": [
        "#Training Function"
      ],
      "metadata": {
        "id": "QqredFuInAmS"
      }
    },
    {
      "cell_type": "code",
      "execution_count": 405,
      "metadata": {
        "id": "GbdBAatzF2Sz"
      },
      "outputs": [],
      "source": [
        "#Training\n",
        "class Trainer:\n",
        "    def __init__(self, pretrained_model, train_loader, val_loader, optimizer, criterion, scheduler, num_epochs):\n",
        "      self.pretrained_model = pretrained_model\n",
        "      self.train_loader = train_loader\n",
        "      self.val_loader = val_loader\n",
        "      self.optimizer = optimizer\n",
        "      self.criterion = criterion\n",
        "      self.scheduler = scheduler\n",
        "      self.num_epochs = num_epochs\n",
        "    def training(self):\n",
        "        device = torch.device(\"cuda\" if torch.cuda.is_available() else \"cpu\")\n",
        "        print(device)\n",
        "        self.pretrained_model = self.pretrained_model.to(device)\n",
        "\n",
        "        history = {'train_loss': [], 'valid_loss': [], 'train_acc': [], 'valid_acc': []}\n",
        "        best_valid_loss = float('inf')\n",
        "        early_stopping_counter = 0\n",
        "\n",
        "        for epoch in range(self.num_epochs):\n",
        "            self.pretrained_model.train()\n",
        "\n",
        "            total_loss = 0.0\n",
        "            true_labels_train = []\n",
        "            predicted_labels_train = []\n",
        "\n",
        "            # Loss and Accuracy within the epoch\n",
        "            train_loss = 0.0\n",
        "            train_acc = 0.0\n",
        "\n",
        "            valid_loss = 0.0\n",
        "            valid_acc = 0.0\n",
        "\n",
        "            for batch_idx, (inputs, labels) in enumerate(self.train_loader):\n",
        "                inputs, labels = inputs.to(device), labels.to(device)\n",
        "                self.optimizer.zero_grad()\n",
        "                outputs = self.pretrained_model(inputs)\n",
        "                loss = self.criterion(outputs, labels)\n",
        "\n",
        "                loss.backward()\n",
        "                self.optimizer.step()\n",
        "\n",
        "                total_loss += loss.item()\n",
        "\n",
        "                # Computing accuracy\n",
        "                predictions = torch.max(outputs.data, 1)[1]\n",
        "                correct_counts = predictions.eq(labels.data.view_as(predictions))\n",
        "                acc = torch.mean(correct_counts.type(torch.FloatTensor))\n",
        "\n",
        "                train_loss += loss.item() * inputs.size(0)\n",
        "                train_acc += acc.item() * inputs.size(0)\n",
        "\n",
        "                true_labels_train.extend(labels.cpu().numpy())\n",
        "                predicted_labels_train.extend(predictions.cpu().numpy())\n",
        "\n",
        "            average_loss = total_loss / len(self.train_loader)\n",
        "            train_accuracy = accuracy_score(true_labels_train, predicted_labels_train)\n",
        "            history['train_loss'].append(average_loss)\n",
        "            history['train_acc'].append(train_accuracy)\n",
        "\n",
        "            # Validation\n",
        "            true_labels_val = []\n",
        "            predicted_labels_val = []\n",
        "\n",
        "            self.pretrained_model.eval()\n",
        "\n",
        "            with torch.no_grad():\n",
        "                for inputs, labels in self.val_loader:\n",
        "                    inputs, labels = inputs.to(device), labels.to(device)\n",
        "                    outputs = self.pretrained_model(inputs)\n",
        "\n",
        "                    loss = self.criterion(outputs, labels)\n",
        "                    valid_loss += loss.item() * inputs.size(0)\n",
        "\n",
        "                    predictions = torch.max(outputs.data, 1)[1]\n",
        "                    correct_counts = predictions.eq(labels.data.view_as(predictions))\n",
        "                    acc = torch.mean(correct_counts.type(torch.FloatTensor))\n",
        "                    valid_acc += acc.item() * inputs.size(0)\n",
        "\n",
        "                    true_labels_val.extend(labels.cpu().numpy())\n",
        "                    predicted_labels_val.extend(predictions.cpu().numpy())\n",
        "\n",
        "                # Mapping class indices names\n",
        "                class_idx_to_name = {idx: class_name for class_name, idx in class_indices.items()}\n",
        "                true_labels_val = [class_idx_to_name[idx] for idx in true_labels_val]\n",
        "                predicted_labels_val = [class_idx_to_name[idx] for idx in predicted_labels_val]\n",
        "\n",
        "                # average validation loss and validation accuracy\n",
        "                avg_valid_loss = valid_loss / len(self.val_loader.dataset)\n",
        "                avg_valid_acc = accuracy_score(true_labels_val, predicted_labels_val)\n",
        "\n",
        "                history['valid_loss'].append(avg_valid_loss)\n",
        "                history['valid_acc'].append(avg_valid_acc)\n",
        "\n",
        "            print(f\"Epoch {epoch + 1}/{self.num_epochs}, Training Loss: {average_loss:.4f}, Training Accuracy: {train_accuracy:.4f}, Validation Loss: {avg_valid_loss:.4f}, Validation Accuracy: {avg_valid_acc:.4f}\")\n",
        "\n",
        "            # Updating the learning rate\n",
        "            scheduler.step()\n",
        "\n",
        "        return history"
      ]
    },
    {
      "cell_type": "markdown",
      "source": [
        "#Optimizer"
      ],
      "metadata": {
        "id": "yJZcJtafoAa2"
      }
    },
    {
      "cell_type": "code",
      "execution_count": 406,
      "metadata": {
        "id": "cf_V1BK5rQYP",
        "colab": {
          "base_uri": "https://localhost:8080/"
        },
        "outputId": "c7eb20cb-239c-4354-f8da-0a6b6141eacc"
      },
      "outputs": [
        {
          "output_type": "stream",
          "name": "stdout",
          "text": [
            "Adam (\n",
            "Parameter Group 0\n",
            "    amsgrad: False\n",
            "    betas: (0.9, 0.999)\n",
            "    capturable: False\n",
            "    differentiable: False\n",
            "    eps: 1e-08\n",
            "    foreach: None\n",
            "    fused: None\n",
            "    lr: 0.0005\n",
            "    maximize: False\n",
            "    weight_decay: 0.1\n",
            ")\n"
          ]
        }
      ],
      "source": [
        "#Optimizer\n",
        "optimizer = torch.optim.Adam(pretrained_model.parameters(), lr=0.0005, weight_decay=0.1)\n",
        "print(optimizer)"
      ]
    },
    {
      "cell_type": "markdown",
      "source": [
        "#Training Process"
      ],
      "metadata": {
        "id": "J0UmrgQSoEmD"
      }
    },
    {
      "cell_type": "code",
      "execution_count": null,
      "metadata": {
        "id": "YQv8-43uhItT",
        "colab": {
          "base_uri": "https://localhost:8080/"
        },
        "outputId": "08c5c2bc-6120-41c0-c07e-d7ddc28252ac"
      },
      "outputs": [
        {
          "output_type": "stream",
          "name": "stdout",
          "text": [
            "cuda\n"
          ]
        }
      ],
      "source": [
        "#Training process\n",
        "scheduler = StepLR(optimizer, step_size=5, gamma=0.7)\n",
        "criterion = nn.CrossEntropyLoss()\n",
        "trainer = Trainer(pretrained_model, train_loader, val_loader, optimizer, criterion, scheduler, num_epochs=30)\n",
        "history = trainer.training()\n"
      ]
    },
    {
      "cell_type": "markdown",
      "source": [
        "# Plotting loss and accuracy variations"
      ],
      "metadata": {
        "id": "iAqcI52eoJKZ"
      }
    },
    {
      "cell_type": "code",
      "execution_count": null,
      "metadata": {
        "id": "90X4rtArcZYD"
      },
      "outputs": [],
      "source": [
        "# Plotting loss and accuracy variations\n",
        "plt.figure(figsize=(12, 4))\n",
        "plt.subplot(1, 2, 1)\n",
        "plt.plot(history['train_loss'], label='Training Loss')\n",
        "plt.plot(history['valid_loss'], label='Validation Loss')\n",
        "plt.xlabel('Epoch')\n",
        "plt.ylabel('Loss')\n",
        "plt.legend()\n",
        "\n",
        "plt.subplot(1, 2, 2)\n",
        "plt.plot(history['train_acc'], label='Training Accuracy')\n",
        "plt.plot(history['valid_acc'], label='Validation Accuracy')\n",
        "plt.xlabel('Epoch')\n",
        "plt.ylabel('Accuracy')\n",
        "plt.legend()\n",
        "\n",
        "plt.tight_layout()\n",
        "plt.show()"
      ]
    },
    {
      "cell_type": "code",
      "execution_count": null,
      "metadata": {
        "id": "e_P8fO-xymqK"
      },
      "outputs": [],
      "source": [
        "#testing\n",
        "def testSetAccuracy(model, test_loader, criterion):\n",
        "\n",
        "    device = torch.device(\"cuda\" if torch.cuda.is_available() else \"cpu\")\n",
        "\n",
        "    test_acc = 0.0\n",
        "    test_loss = 0.0\n",
        "    true_labels_test = []\n",
        "    predicted_labels_test = []\n",
        "\n",
        "    # test accuracy history\n",
        "    test_acc_history = []\n",
        "\n",
        "    # Validation - No gradient tracking needed\n",
        "    with torch.no_grad():\n",
        "\n",
        "        # to evaluation mode\n",
        "        model.eval()\n",
        "\n",
        "        # Test loop\n",
        "        for j, (inputs, labels) in enumerate(test_loader):\n",
        "            inputs = inputs.to(device)\n",
        "            labels = labels.to(device)\n",
        "\n",
        "            # Forward pass - compute outputs on input data using the model\n",
        "            outputs = model(inputs)\n",
        "\n",
        "            # loss\n",
        "            loss = criterion(outputs, labels)\n",
        "\n",
        "            # collecting the loss\n",
        "            test_loss += loss.item() * inputs.size(0)\n",
        "\n",
        "            # Converting for accuracy calculation\n",
        "            true_labels_test.extend(labels.cpu().numpy())\n",
        "            predicted_labels_test.extend(torch.argmax(outputs, 1).cpu().numpy())\n",
        "\n",
        "            # Calculate accuracy\n",
        "            correct_counts = torch.sum(torch.argmax(outputs, 1) == labels)\n",
        "            acc = correct_counts.item() / labels.size(0)\n",
        "\n",
        "            # collecting accuracy\n",
        "            test_acc += acc * inputs.size(0)\n",
        "\n",
        "            # test accuracy at each batch\n",
        "            test_acc_history.append(acc)\n",
        "\n",
        "            print(\"Test Batch number: {:03d}, Test: Loss: {:.4f}, Accuracy: {:.4f}\".format(j, loss.item(), acc))\n",
        "\n",
        "    # average test loss and test accuracy\n",
        "    avg_test_loss = test_loss / len(test_loader.dataset)\n",
        "    avg_test_acc = test_acc / len(test_loader.dataset)\n",
        "\n",
        "    # Calculating accuracy\n",
        "    test_accuracy = accuracy_score(true_labels_test, predicted_labels_test)\n",
        "\n",
        "    print(\"Test Accuracy (from sklearn): {:.4f}\".format(test_accuracy))\n",
        "    print(\"Average Test Loss: {:.4f}, Average Test Accuracy: {:.4f}\".format(avg_test_loss, avg_test_acc))\n",
        "\n",
        "    # Returning values\n",
        "    return avg_test_loss, avg_test_acc, test_accuracy, test_acc_history\n"
      ]
    },
    {
      "cell_type": "code",
      "execution_count": null,
      "metadata": {
        "id": "1_gHFanAkwap"
      },
      "outputs": [],
      "source": [
        "# Testing\n",
        "avg_test_loss, avg_test_acc, test_accuracy, test_acc_history = testSetAccuracy(pretrained_model, test_loader, criterion)\n",
        "print(\"avg_test_loss: \", avg_test_loss)\n",
        "print(\"avg_test_Accuracy: \", avg_test_acc)\n",
        "print(\"test_Accuracy: \", test_accuracy)"
      ]
    },
    {
      "cell_type": "markdown",
      "source": [
        "# test accuracy variation"
      ],
      "metadata": {
        "id": "WKpX_CGeo64g"
      }
    },
    {
      "cell_type": "code",
      "execution_count": null,
      "metadata": {
        "id": "seZkAid5EcSY"
      },
      "outputs": [],
      "source": [
        "# test accuracy variation\n",
        "plt.figure(figsize=(10, 6))\n",
        "plt.plot(test_acc_history, label='Test Accuracy')\n",
        "plt.xlabel('Batch Number')\n",
        "plt.ylabel('Accuracy')\n",
        "plt.title('Test Accuracy Variation Over Batches')\n",
        "plt.legend()\n",
        "plt.grid(True)\n",
        "plt.show()"
      ]
    },
    {
      "cell_type": "code",
      "source": [
        "from sklearn.metrics import confusion_matrix, accuracy_score, precision_score, f1_score\n",
        "\n",
        "# Load the test data\n",
        "test_loader = test_loader\n",
        "\n",
        "# Evaluate the model on the test set\n",
        "avg_test_loss, avg_test_acc, test_accuracy, _ = testSetAccuracy(pretrained_model, test_loader, criterion)\n",
        "\n",
        "# Make predictions on the test set\n",
        "true_labels_test = []\n",
        "predicted_labels_test = []\n",
        "\n",
        "device = torch.device(\"cuda\" if torch.cuda.is_available() else \"cpu\")\n",
        "\n",
        "with torch.no_grad():\n",
        "    pretrained_model.eval()\n",
        "    for inputs, labels in test_loader:\n",
        "        inputs = inputs.to(device)\n",
        "        labels = labels.to(device)\n",
        "        outputs = pretrained_model(inputs)\n",
        "        predicted_labels_test.extend(torch.argmax(outputs, 1).cpu().numpy())\n",
        "        true_labels_test.extend(labels.cpu().numpy())\n",
        "\n",
        "# Calculate confusion matrix\n",
        "conf_matrix = confusion_matrix(true_labels_test, predicted_labels_test)\n",
        "\n",
        "# Calculate precision, recall, and F1 score\n",
        "precision = precision_score(true_labels_test, predicted_labels_test, average='weighted')\n",
        "f1 = f1_score(true_labels_test, predicted_labels_test, average='weighted')\n",
        "\n",
        "print(\"Confusion Matrix:\")\n",
        "print(conf_matrix)\n",
        "print(\"Test Accuracy (from testSetAccuracy function): {:.4f}\".format(test_accuracy))\n",
        "print(\"Precision: {:.4f}\".format(precision))\n",
        "print(\"F1 Score: {:.4f}\".format(f1))\n"
      ],
      "metadata": {
        "id": "dYJuJ-5o9LLj"
      },
      "execution_count": null,
      "outputs": []
    },
    {
      "cell_type": "code",
      "source": [
        "import seaborn as sns\n",
        "import matplotlib.pyplot as plt\n",
        "\n",
        "\n",
        "# Plot the confusion matrix as a heatmap\n",
        "plt.figure(figsize=(8, 6))\n",
        "sns.heatmap(conf_matrix, annot=True, fmt='d', cmap='Blues', xticklabels=range(1, 6), yticklabels=range(1, 6))\n",
        "plt.xlabel('Predicted Labels')\n",
        "plt.ylabel('True Labels')\n",
        "plt.title('Confusion Matrix')\n",
        "plt.show()\n"
      ],
      "metadata": {
        "id": "467LoJpG-MWu"
      },
      "execution_count": null,
      "outputs": []
    },
    {
      "cell_type": "markdown",
      "metadata": {
        "id": "SD5DDB4TFzZx"
      },
      "source": [
        "#Saving the pretrained Model"
      ]
    },
    {
      "cell_type": "code",
      "execution_count": null,
      "metadata": {
        "id": "JFCrciSCFy5y"
      },
      "outputs": [],
      "source": [
        "# Save the pretrained model\n",
        "torch.save(pretrained_model, 'pretrained_model.pth')"
      ]
    },
    {
      "cell_type": "markdown",
      "metadata": {
        "id": "DwI28Tzx_GSR"
      },
      "source": [
        "#Download psdImages_next_iter data"
      ]
    },
    {
      "cell_type": "code",
      "execution_count": null,
      "metadata": {
        "id": "PCCC9lXx_FwF"
      },
      "outputs": [],
      "source": [
        "psdImages_next_iter_RGB_path='/content/research_codes/psd_images_combined'"
      ]
    },
    {
      "cell_type": "markdown",
      "source": [
        "#Displaying sample images"
      ],
      "metadata": {
        "id": "hwG7olixpKQI"
      }
    },
    {
      "cell_type": "code",
      "execution_count": null,
      "metadata": {
        "id": "uHchuMbj_f8i"
      },
      "outputs": [],
      "source": [
        "# Display sample images from the dataset\n",
        "transform_common = transforms.Compose([\n",
        "        transforms.Resize((84, 84)),\n",
        "        transforms.ToTensor(),\n",
        "    ])\n",
        "psdImages_next_iter_dataset_show = datasets.ImageFolder(root=psdImages_next_iter_RGB_path, transform=transform_common)\n",
        "sample_loader = torch.utils.data.DataLoader(psdImages_next_iter_dataset_show, batch_size=4, shuffle=True)\n",
        "sample_batch, sample_labels = next(iter(sample_loader))\n",
        "\n",
        "plt.figure(figsize=(8, 8))\n",
        "plt.axis(\"off\")\n",
        "plt.title(\"Sample Images\")\n",
        "plt.imshow(np.transpose(vutils.make_grid(sample_batch, padding=2, normalize=True).cpu(), (1, 2, 0)))\n",
        "plt.show()"
      ]
    },
    {
      "cell_type": "markdown",
      "source": [
        "#Select 100 images and 5 different classes randomly"
      ],
      "metadata": {
        "id": "dXqFlXgtqKQa"
      }
    },
    {
      "cell_type": "code",
      "execution_count": null,
      "metadata": {
        "id": "xZAhvk_6NKLp"
      },
      "outputs": [],
      "source": [
        "#Select 100 images and 5 different classes randomly\n",
        "import random\n",
        "from shutil import copyfile\n",
        "\n",
        "# Path to the root directory which has the 10 folders\n",
        "root_path = \"/content/research_codes/psd_images_combined\"\n",
        "\n",
        "# Output path for the new dataset\n",
        "output_path = \"./data_project/psdImages_next_iter_selected_images\"\n",
        "if output_path == './data_project/psdImages_next_iter_selected_images':\n",
        "  !rm -rf psdImages_next_iter_selected_images\n",
        "\n",
        "# Getting a list of all folders in the directory\n",
        "all_folders = os.listdir(root_path)\n",
        "\n",
        "# Randomly selecting 5 folders\n",
        "selected_folders = random.sample(all_folders, 5)\n",
        "\n",
        "# Creating the output directory if it doesn't exist\n",
        "os.makedirs(output_path, exist_ok=True)\n",
        "\n",
        "# iterating through selected folders\n",
        "for folder in selected_folders:\n",
        "  folder_path = os.path.join(root_path, folder)\n",
        "\n",
        "  # Getting a list of all files in the folder\n",
        "  all_files = os.listdir(folder_path)\n",
        "\n",
        "  # Randomly selecting 20 images (will make 100 with all 5 classes)\n",
        "  selected_images = random.sample(all_files, 20)\n",
        "\n",
        "  # Creating a subdirectory in the output path for this folder\n",
        "  output_folder_path = os.path.join(output_path, folder)\n",
        "  os.makedirs(output_folder_path, exist_ok=True)\n",
        "\n",
        "  # Copying selected images to the output folder\n",
        "  for image in selected_images:\n",
        "      src_path = os.path.join(folder_path, image)\n",
        "      dest_path = os.path.join(output_folder_path, image)\n",
        "      copyfile(src_path, dest_path)\n",
        "\n",
        "print(\"Dataset creation complete.\")"
      ]
    },
    {
      "cell_type": "code",
      "execution_count": null,
      "metadata": {
        "id": "nlaRLLd3p_Yh"
      },
      "outputs": [],
      "source": [
        "#separate image folders into train test\n",
        "\n",
        "import random\n",
        "import os\n",
        "from shutil import copyfile\n",
        "def train_test_psdImages_next_iter():\n",
        "# setting the Path to the root folder containing the folders\n",
        "  root_path = \"./data_project/psdImages_next_iter_selected_images\"\n",
        "\n",
        "  # Output path for the new dataset\n",
        "  output_path = \"./data_project/psdImages_next_iter_tuning\"\n",
        "  if output_path == \"./data_project/psdImages_next_iter_tuning\":\n",
        "      !rm -rf psdImages_next_iter_selected_images\n",
        "\n",
        "  # Getting a list of all folders in the directory\n",
        "  all_folders = os.listdir(root_path)\n",
        "\n",
        "  # Creating the output directory if it doesn't exist\n",
        "  os.makedirs(output_path, exist_ok=True)\n",
        "\n",
        "  # Creating subfolders for train and test datasets\n",
        "  train_path = os.path.join(output_path, \"train_dataset\")\n",
        "  test_path = os.path.join(output_path, \"test_dataset\")\n",
        "  os.makedirs(train_path, exist_ok=True)\n",
        "  os.makedirs(test_path, exist_ok=True)\n",
        "\n",
        "  # Iterating through selected folders\n",
        "  for folder in all_folders:\n",
        "    folder_path = os.path.join(root_path, folder)\n",
        "    # Create subfolders for each class within train and test datasets\n",
        "    train_class_path = os.path.join(train_path, folder)\n",
        "    test_class_path = os.path.join(test_path, folder)\n",
        "    os.makedirs(train_class_path, exist_ok=True)\n",
        "    os.makedirs(test_class_path, exist_ok=True)\n",
        "\n",
        "    # Getting a list of all files in the folder\n",
        "    all_files = os.listdir(folder_path)\n",
        "\n",
        "    # Randomly selecting 5 images for training\n",
        "    train_images = random.sample(all_files, 5)\n",
        "    for img in train_images:\n",
        "        src_path = os.path.join(folder_path, img)\n",
        "        dest_path = os.path.join(train_class_path, img)\n",
        "        copyfile(src_path, dest_path)\n",
        "\n",
        "    # Put remaining images into the test dataset\n",
        "    test_images = set(all_files) - set(train_images)\n",
        "    for img in test_images:\n",
        "        src_path = os.path.join(folder_path, img)\n",
        "        dest_path = os.path.join(test_class_path, img)\n",
        "        copyfile(src_path, dest_path)\n",
        "\n",
        "  print(\"Dataset creation complete.\")\n",
        "\n",
        "#Running the function here\n",
        "train_test_psdImages_next_iter()"
      ]
    },
    {
      "cell_type": "markdown",
      "source": [
        "#Creating transforms and data loaders"
      ],
      "metadata": {
        "id": "0Pv0C_xOvggC"
      }
    },
    {
      "cell_type": "code",
      "execution_count": null,
      "metadata": {
        "id": "tXCqvM9QBCyz"
      },
      "outputs": [],
      "source": [
        "def load_psdImages_next_iter_dataset(data_path='./data_project/psdImages_next_iter_tuning/', batch_size=25):\n",
        "    # Transforms\n",
        "    image_transforms = {\n",
        "        'train': transforms.Compose([\n",
        "            transforms.RandomResizedCrop(size=216, scale=(0.7, 1.0)),\n",
        "            transforms.ColorJitter(brightness=0.1, contrast=0.1, saturation=0.1, hue=0.1),\n",
        "            transforms.RandomRotation(degrees=15),\n",
        "            transforms.RandomHorizontalFlip(),\n",
        "            transforms.RandomVerticalFlip(),\n",
        "            transforms.RandomGrayscale(p=0.1),\n",
        "            transforms.Resize((224, 224)),\n",
        "            transforms.ToTensor(),\n",
        "            transforms.Normalize([0.485, 0.456, 0.406], [0.229, 0.224, 0.225])\n",
        "        ]),\n",
        "        'test': transforms.Compose([\n",
        "            transforms.Resize((224, 224)),\n",
        "            transforms.ToTensor(),\n",
        "            transforms.Normalize([0.485, 0.456, 0.406], [0.229, 0.224, 0.225])\n",
        "        ])\n",
        "    }\n",
        "\n",
        "    # Setting train and test folder paths\n",
        "    train_dataset_path = os.path.join(data_path, 'train_dataset')\n",
        "    test_dataset_path = os.path.join(data_path, 'test_dataset')\n",
        "\n",
        "    # getting number of classes\n",
        "    num_classes_psdImages_next_iter = len(os.listdir(train_dataset_path))\n",
        "\n",
        "    # loading Data from folders\n",
        "    data = {\n",
        "        'train': datasets.ImageFolder(root=train_dataset_path, transform=image_transforms['train']),\n",
        "        'test': datasets.ImageFolder(root=test_dataset_path, transform=image_transforms['test'])\n",
        "    }\n",
        "\n",
        "    # mapping the indices to the class names\n",
        "    idx_to_class = {v: k for k, v in data['train'].class_to_idx.items()}\n",
        "\n",
        "    # data size\n",
        "    train_data_size = len(data['train'])\n",
        "    test_data_size = len(data['test'])\n",
        "\n",
        "    # DataLoader\n",
        "    train_loader = torch.utils.data.DataLoader(data['train'], batch_size=batch_size, shuffle=True)\n",
        "    test_loader = torch.utils.data.DataLoader(data['test'], batch_size=batch_size, shuffle=False)\n",
        "    print(\"Train Data Size:\", train_data_size)\n",
        "    print(\"Test Data Size:\", test_data_size)\n",
        "\n",
        "    return train_loader, test_loader, idx_to_class, num_classes_psdImages_next_iter\n",
        "\n",
        "# Running\n",
        "train_loader, test_loader, idx_to_class, num_classes = load_psdImages_next_iter_dataset()\n",
        "class_indices = idx_to_class\n",
        "print(\"Class Indices:\", idx_to_class)\n",
        "print(\"Number of Classes:\", num_classes)\n"
      ]
    },
    {
      "cell_type": "markdown",
      "source": [
        "# display images with class names"
      ],
      "metadata": {
        "id": "v53AXlX2vcCD"
      }
    },
    {
      "cell_type": "code",
      "execution_count": null,
      "metadata": {
        "id": "NxYRyaj2a01n"
      },
      "outputs": [],
      "source": [
        "# display images with class names\n",
        "def show_images(images, labels, class_names, title):\n",
        "    plt.figure(figsize=(10, 3))\n",
        "    plt.suptitle(title, y=1.02, fontsize=16)\n",
        "    for i in range(min(5, len(images))):\n",
        "        plt.subplot(1, 5, i + 1)\n",
        "        plt.imshow(np.transpose(images[i].numpy(), (1, 2, 0)))\n",
        "        plt.title(class_names[labels[i].item()])\n",
        "        plt.axis('off')\n",
        "    plt.show()\n",
        "\n",
        "# get sample images with class labels from DataLoader\n",
        "def get_sample(loader, class_names):\n",
        "    data_iter = iter(loader)\n",
        "    images, labels = next(data_iter)\n",
        "    return images, labels, class_names\n",
        "\n",
        "# Getting a sample from dataset\n",
        "class_names_psdImages_next_iter = idx_to_class\n",
        "train_images, train_labels, _ = get_sample(train_loader, class_names_psdImages_next_iter)\n",
        "test_images, test_labels, _ = get_sample(test_loader, class_names_psdImages_next_iter)\n",
        "\n",
        "Train = 'Train'\n",
        "Test = 'Test'\n",
        "# showing sample images with class names\n",
        "def show_sample_images(title, images, labels):\n",
        "  plt.figure(figsize=(10, 3))\n",
        "  plt.suptitle(title + \"Dataset Samples\", y=1.02, fontsize=16)\n",
        "  for i in range(min(5, len(images))):\n",
        "        plt.subplot(1, 5, i + 1)\n",
        "        image_np = np.transpose(images[i].numpy(), (1, 2, 0))\n",
        "        image_np = np.clip(image_np, 0, 1)\n",
        "        plt.imshow(image_np)\n",
        "        plt.title(class_names_psdImages_next_iter[labels[i].item()])\n",
        "        plt.axis('off')\n",
        "  plt.show()\n",
        "\n",
        "show_sample_images(Train, train_images, train_labels)\n",
        "show_sample_images(Test, test_images, test_labels)\n"
      ]
    },
    {
      "cell_type": "code",
      "execution_count": null,
      "metadata": {
        "id": "KfI8AHU3CuK9"
      },
      "outputs": [],
      "source": [
        "# checking the data type of images\n",
        "def check_image_data_type(loader):\n",
        "    data_iter = iter(loader)\n",
        "    images, labels = next(data_iter)\n",
        "    data_type = type(images)\n",
        "    return data_type\n",
        "\n",
        "# data type of train_loader\n",
        "train_data_type = check_image_data_type(train_loader)\n",
        "print(\"Train Loader Image Data Type:\", train_data_type)\n",
        "\n",
        "# data type of test_loader\n",
        "test_data_type = check_image_data_type(test_loader)\n",
        "print(\"Test Loader Image Data Type:\", test_data_type)"
      ]
    },
    {
      "cell_type": "markdown",
      "metadata": {
        "id": "LY_CaW63Gra-"
      },
      "source": [
        "#Loading the pre-trained model"
      ]
    },
    {
      "cell_type": "code",
      "execution_count": null,
      "metadata": {
        "id": "V3GD9gs3Gq1W"
      },
      "outputs": [],
      "source": [
        "# loading the model\n",
        "\n",
        "modified_trained_model = torch.load('pretrained_model.pth')\n",
        "modified_trained_model = modified_trained_model.to(device)\n",
        "\n",
        "# Setting to evaluation mode\n",
        "modified_trained_model.eval()"
      ]
    },
    {
      "cell_type": "markdown",
      "metadata": {
        "id": "4iJumiZO8jpT"
      },
      "source": [
        "#Adjusting final layer to match class size"
      ]
    },
    {
      "cell_type": "code",
      "execution_count": null,
      "metadata": {
        "id": "ZZnqAFk2fkZC"
      },
      "outputs": [],
      "source": [
        "# Freezing all layers\n",
        "for param in modified_trained_model.parameters():\n",
        "    param.requires_grad = False\n",
        "    param.data = param.data.to(device)\n",
        "\n",
        "# Modifying the final layer\n",
        "num_classes_psdImages_next_iter = len(class_indices)\n",
        "dropout = 0.7\n",
        "\n",
        "# last layer in the Sequential module\n",
        "in_features = modified_trained_model.fc[-1].in_features\n",
        "\n",
        "# Replacing the final fully connected layer\n",
        "modified_trained_model.fc = nn.Sequential(\n",
        "    nn.ReLU(),\n",
        "    #add dropout\n",
        "    nn.Dropout(p=dropout),\n",
        "    nn.Linear(in_features, num_classes_psdImages_next_iter)\n",
        ")\n",
        "\n",
        "# unfreezing the final layer\n",
        "modified_trained_model.fc.requires_grad = True\n",
        "\n",
        "# model to the device\n",
        "modified_trained_model = modified_trained_model.to(device)"
      ]
    },
    {
      "cell_type": "code",
      "execution_count": null,
      "metadata": {
        "id": "Hd-rEPb1W8YO"
      },
      "outputs": [],
      "source": [
        "#Training\n",
        "class Trainer:\n",
        "    def __init__(self, model, train_loader, optimizer, criterion, scheduler, num_epochs):\n",
        "      self.model = model\n",
        "      self.train_loader = train_loader\n",
        "      self.optimizer = optimizer\n",
        "      self.criterion = criterion\n",
        "      self.scheduler = scheduler\n",
        "      self.num_epochs = num_epochs\n",
        "\n",
        "    def training(self):\n",
        "        device = torch.device(\"cuda\" if torch.cuda.is_available() else \"cpu\")\n",
        "        print(device)\n",
        "        self.model = self.model.to(device)\n",
        "\n",
        "        history = {'train_loss': [], 'train_acc': []}\n",
        "\n",
        "        for epoch in range(self.num_epochs):\n",
        "            self.model.train()\n",
        "\n",
        "            total_loss = 0.0\n",
        "            true_labels_train = []\n",
        "            predicted_labels_train = []\n",
        "\n",
        "            train_loss = 0.0\n",
        "            train_acc = 0.0\n",
        "\n",
        "            for batch_idx, (inputs, labels) in enumerate(self.train_loader):\n",
        "                inputs, labels = inputs.to(device), labels.to(device)\n",
        "                self.optimizer.zero_grad()\n",
        "                outputs = self.model(inputs)\n",
        "                loss = self.criterion(outputs, labels)\n",
        "\n",
        "                loss.backward()\n",
        "                self.optimizer.step()\n",
        "\n",
        "                total_loss += loss.item()\n",
        "\n",
        "                # Computing the accuracy\n",
        "                predictions = torch.max(outputs.data, 1)[1]\n",
        "                correct_counts = predictions.eq(labels.data.view_as(predictions))\n",
        "                acc = torch.mean(correct_counts.type(torch.FloatTensor))\n",
        "\n",
        "                train_loss += loss.item() * inputs.size(0)\n",
        "                train_acc += acc.item() * inputs.size(0)\n",
        "\n",
        "                true_labels_train.extend(labels.cpu().numpy())\n",
        "                predicted_labels_train.extend(predictions.cpu().numpy())\n",
        "\n",
        "            average_loss = total_loss / len(self.train_loader)\n",
        "            train_accuracy = accuracy_score(true_labels_train, predicted_labels_train)\n",
        "            history['train_loss'].append(average_loss)\n",
        "            history['train_acc'].append(train_accuracy)\n",
        "\n",
        "            print(f\"Epoch {epoch + 1}/{self.num_epochs}, Training Loss: {average_loss:.4f}, Training Accuracy: {train_accuracy:.4f}\")\n",
        "            # Updating the learning rate at each epoch\n",
        "            scheduler.step()\n",
        "\n",
        "        return history"
      ]
    },
    {
      "cell_type": "markdown",
      "source": [
        "#Fine tuning Process"
      ],
      "metadata": {
        "id": "RgFfDsMsyfBN"
      }
    },
    {
      "cell_type": "code",
      "execution_count": null,
      "metadata": {
        "id": "pAe4_z14XC9z"
      },
      "outputs": [],
      "source": [
        "# Setting device\n",
        "device = torch.device(\"cuda\" if torch.cuda.is_available() else \"cpu\")\n",
        "\n",
        "# number of epochs\n",
        "num_epochs = 20\n",
        "\n",
        "# number of episodes\n",
        "num_episodes = 5\n",
        "\n",
        "# learning rate\n",
        "lr = 0.001\n",
        "\n",
        "# getting the Trainer\n",
        "optimizer = torch.optim.Adam(modified_trained_model.parameters(), lr=lr, weight_decay=0.3)\n",
        "criterion = nn.CrossEntropyLoss()\n",
        "scheduler = StepLR(optimizer, step_size=10, gamma=0.5)\n",
        "\n",
        "best_model = None\n",
        "best_accuracy = 0.0\n",
        "episode_history = {'average_train_loss': [], 'average_train_acc': []}\n",
        "\n",
        "# Run training for multiple episodes\n",
        "for episode in range(num_episodes):\n",
        "    print(f\"\\nEpisode {episode + 1}/{num_episodes}\")\n",
        "\n",
        "    criterion = nn.CrossEntropyLoss()\n",
        "    # training for a single episode\n",
        "    trainer = Trainer(modified_trained_model, train_loader, optimizer, criterion, scheduler, num_epochs=num_epochs)\n",
        "\n",
        "    #data loaders\n",
        "    train_loader, test_loader, idx_to_class, num_classes = load_psdImages_next_iter_dataset()\n",
        "\n",
        "    # sample from each dataset to print\n",
        "    class_names_psdImages_next_iter = idx_to_class\n",
        "    train_images, train_labels, _ = get_sample(train_loader, class_names_psdImages_next_iter)\n",
        "    test_images, test_labels, _ = get_sample(test_loader, class_names_psdImages_next_iter)\n",
        "\n",
        "    #show sample images\n",
        "    show_sample_images(Train, train_images, train_labels)\n",
        "    show_sample_images(Test, test_images, test_labels)\n",
        "\n",
        "    # train the model\n",
        "    history = trainer.training()\n",
        "\n",
        "    # average training loss and accuracy for all epochs\n",
        "    average_training_loss = sum(history['train_loss']) / len(history['train_loss'])\n",
        "    average_training_accuracy = sum(history['train_acc']) / len(history['train_acc'])\n",
        "    episode_history['average_train_loss'].append(average_training_loss)\n",
        "    episode_history['average_train_acc'].append(average_training_accuracy)\n",
        "\n",
        "    # updating the best model if the current accuracy is the best\n",
        "    if average_training_accuracy > best_accuracy:\n",
        "        best_accuracy = average_training_accuracy\n",
        "        best_model = modified_trained_model\n",
        "    !rm -rf psdImages_next_iter_selected_images\n",
        "    !rm -rf psdImages_next_iter_tuning\n",
        "\n",
        "    print(f\"Average Training Loss: {average_training_loss:.4f}, Average Training Accuracy: {average_training_accuracy:.4f}\")\n",
        "\n",
        "    # updating learning rate\n",
        "    scheduler.step()\n",
        "\n",
        "# saving the best model\n",
        "torch.save(best_model, 'best_fine_tuned_model.pth')\n",
        "print(\"Best model saved.\")"
      ]
    },
    {
      "cell_type": "markdown",
      "source": [
        "# Plotting loss and accuracy variations"
      ],
      "metadata": {
        "id": "G_bLIyQByky4"
      }
    },
    {
      "cell_type": "code",
      "execution_count": null,
      "metadata": {
        "id": "KlepqglnXZ5N"
      },
      "outputs": [],
      "source": [
        "# Plotting loss and accuracy variations\n",
        "plt.figure(figsize=(12, 4))\n",
        "plt.subplot(1, 2, 1)\n",
        "plt.plot(episode_history['average_train_loss'], label='Average Training Loss')\n",
        "plt.xlabel('Episode')\n",
        "plt.ylabel('Loss')\n",
        "plt.legend()\n",
        "\n",
        "plt.subplot(1, 2, 2)\n",
        "plt.plot(episode_history['average_train_acc'], label='Average Training Accuracy')\n",
        "plt.xlabel('Episode')\n",
        "plt.ylabel('Accuracy')\n",
        "plt.legend()\n",
        "\n",
        "plt.tight_layout()\n",
        "plt.show()"
      ]
    },
    {
      "cell_type": "code",
      "execution_count": null,
      "metadata": {
        "id": "Jc12fXVGQSFN"
      },
      "outputs": [],
      "source": [
        "# loading the model\n",
        "best_fine_tuned_model = torch.load('best_fine_tuned_model.pth')\n",
        "\n",
        "# moving the model to the device\n",
        "best_fine_tuned_model = best_fine_tuned_model.to(device)\n",
        "\n",
        "# setting the model to evaluation mode\n",
        "best_fine_tuned_model.eval()"
      ]
    },
    {
      "cell_type": "code",
      "execution_count": null,
      "metadata": {
        "id": "MfcywEjEXhwI"
      },
      "outputs": [],
      "source": [
        "#testing\n",
        "def testSetAccuracy(model, test_loader, criterion):\n",
        "    device = torch.device(\"cuda\" if torch.cuda.is_available() else \"cpu\")\n",
        "\n",
        "    test_acc = 0.0\n",
        "    test_loss = 0.0\n",
        "    true_labels_test = []\n",
        "    predicted_labels_test = []\n",
        "\n",
        "    # collecting test accuracy history\n",
        "    test_acc_history = []\n",
        "\n",
        "    # Validation - No gradient tracking needed\n",
        "    with torch.no_grad():\n",
        "\n",
        "        # Set to evaluation mode\n",
        "        model.eval()\n",
        "\n",
        "        # test loop\n",
        "        for j, (inputs, labels) in enumerate(test_loader):\n",
        "            inputs = inputs.to(device)\n",
        "            labels = labels.to(device)\n",
        "\n",
        "            # Forward pass computing outputs on input data\n",
        "            outputs = model(inputs)\n",
        "\n",
        "            # computing loss\n",
        "            loss = criterion(outputs, labels)\n",
        "\n",
        "            # collecting the loss\n",
        "            test_loss += loss.item() * inputs.size(0)\n",
        "\n",
        "            # accuracy calculation\n",
        "            true_labels_test.extend(labels.cpu().numpy())\n",
        "            predicted_labels_test.extend(torch.argmax(outputs, 1).cpu().numpy())\n",
        "\n",
        "            # Calculate accuracy\n",
        "            correct_counts = torch.sum(torch.argmax(outputs, 1) == labels)\n",
        "            acc = correct_counts.item() / labels.size(0)\n",
        "\n",
        "            # Accumulate accuracy\n",
        "            test_acc += acc * inputs.size(0)\n",
        "\n",
        "            # collecting test accuracy\n",
        "            test_acc_history.append(acc)\n",
        "\n",
        "            print(\"Test Batch number: {:03d}, Test: Loss: {:.4f}, Accuracy: {:.4f}\".format(j, loss.item(), acc))\n",
        "\n",
        "    # average test loss and test accuracy\n",
        "    avg_test_loss = test_loss / len(test_loader.dataset)\n",
        "    avg_test_acc = test_acc / len(test_loader.dataset)\n",
        "\n",
        "    # accuracy using scikit-learn\n",
        "    test_accuracy = accuracy_score(true_labels_test, predicted_labels_test)\n",
        "\n",
        "    print(\"Test Accuracy (from sklearn): {:.4f}\".format(test_accuracy))\n",
        "    print(\"Average Test Loss: {:.4f}, Average Test Accuracy: {:.4f}\".format(avg_test_loss, avg_test_acc))\n",
        "\n",
        "    # return values\n",
        "    return avg_test_loss, avg_test_acc, test_accuracy, test_acc_history\n"
      ]
    },
    {
      "cell_type": "markdown",
      "source": [
        "#Testing process"
      ],
      "metadata": {
        "id": "2Vk2coDK1upz"
      }
    },
    {
      "cell_type": "code",
      "execution_count": null,
      "metadata": {
        "id": "lfHdaM5zXmnj"
      },
      "outputs": [],
      "source": [
        "# Testing\n",
        "_, test_loader, _, _  = load_psdImages_next_iter_dataset()\n",
        "avg_test_loss, avg_test_acc, test_accuracy, test_acc_history = testSetAccuracy(best_fine_tuned_model, test_loader, criterion)\n",
        "print(\"avg_test_loss: \", avg_test_loss)\n",
        "print(\"avg_test_Accuracy: \", avg_test_acc)\n",
        "print(\"test_Accuracy: {:.4f}\".format(test_accuracy))\n"
      ]
    },
    {
      "cell_type": "markdown",
      "source": [
        "#plotting the testing accuracy"
      ],
      "metadata": {
        "id": "CE7djEUE1zvT"
      }
    },
    {
      "cell_type": "code",
      "execution_count": null,
      "metadata": {
        "id": "fE_rFXOCXzTr"
      },
      "outputs": [],
      "source": [
        "_, _, _, test_acc_history = testSetAccuracy(best_fine_tuned_model, test_loader, criterion)\n",
        "# Plotting test accuracy\n",
        "plt.figure(figsize=(10, 6))\n",
        "plt.plot(test_acc_history, label='Test Accuracy')\n",
        "plt.xlabel('Batch Number')\n",
        "plt.ylabel('Accuracy')\n",
        "plt.title('Test Accuracy Variation Over Batches')\n",
        "plt.legend()\n",
        "plt.grid(True)\n",
        "plt.show()"
      ]
    },
    {
      "cell_type": "markdown",
      "source": [
        "#checking the model summary"
      ],
      "metadata": {
        "id": "baXh1ThC2Ajz"
      }
    },
    {
      "cell_type": "code",
      "execution_count": null,
      "metadata": {
        "id": "P_BLJ_7kwvuo"
      },
      "outputs": [],
      "source": [
        "!pip install torchsummary\n",
        "from torchsummary import summary\n",
        "\n",
        "summary(modified_trained_model, (3, 224, 224))"
      ]
    },
    {
      "cell_type": "markdown",
      "source": [
        "#Predictions using web images"
      ],
      "metadata": {
        "id": "Eooju2mR2Gmk"
      }
    },
    {
      "cell_type": "code",
      "execution_count": null,
      "metadata": {
        "id": "Vu9Tm3djxkgK"
      },
      "outputs": [],
      "source": [
        "#data loader\n",
        "train_loader, test_loader, class_indices, num_classes = load_psdImages_next_iter_dataset()\n",
        "#transforms\n",
        "image_transforms = {\n",
        "        'train': transforms.Compose([\n",
        "            transforms.ColorJitter(brightness=0.1, contrast=0.1, saturation=0.1, hue=0.1),\n",
        "            transforms.RandomRotation(degrees=15),\n",
        "            transforms.RandomHorizontalFlip(),\n",
        "            transforms.RandomVerticalFlip(),\n",
        "            transforms.Resize((128, 128)),\n",
        "            transforms.ToTensor(),\n",
        "            transforms.Normalize([0.485, 0.456, 0.406], [0.229, 0.224, 0.225])\n",
        "        ]),\n",
        "        'test': transforms.Compose([\n",
        "            transforms.Resize((128, 128)),\n",
        "            transforms.ToTensor(),\n",
        "        ])\n",
        "    }\n",
        "#prediction\n",
        "def predict(model, test_image_name):\n",
        "    transform = image_transforms['test']\n",
        "    test_image = Image.open(test_image_name)\n",
        "    test_image = transform(test_image)\n",
        "    plt.imshow(test_image.permute(1, 2, 0))\n",
        "    test_image_tensor = test_image.unsqueeze(0)\n",
        "    test_image_tensor = test_image_tensor.to(device)\n",
        "\n",
        "    with torch.no_grad():\n",
        "        model.eval()\n",
        "        # log probabilities\n",
        "        out = model(test_image_tensor)\n",
        "        ps = torch.exp(out)\n",
        "\n",
        "        topk, topclass = ps.topk(3, dim=1)\n",
        "        print(\"Class Indices:\", idx_to_class)\n",
        "        print(\"Model Output:\", topclass.cpu().numpy()[0])\n",
        "\n",
        "        for i in range(3):\n",
        "            print(\"Prediction\", i + 1, \":\", idx_to_class[topclass.cpu().numpy()[0][i]], \", Score: \", topk.cpu().numpy()[0][i])\n"
      ]
    },
    {
      "cell_type": "markdown",
      "source": [
        "# predicting the image using the best tested model"
      ],
      "metadata": {
        "id": "75VSur852thr"
      }
    },
    {
      "cell_type": "code",
      "execution_count": null,
      "metadata": {
        "id": "uQ6ROFgBxosM"
      },
      "outputs": [],
      "source": [
        "# predicting the image using the best tested model\n",
        "! wget https://cdn.pixabay.com/photo/2015/10/06/19/28/trees-975091_960_720.jpg -O image.jpg\n",
        "\n",
        "model = torch.load(\"best_fine_tuned_model.pth\")\n",
        "predict(model, 'image.jpg')"
      ]
    },
    {
      "cell_type": "markdown",
      "source": [
        "# predicting the image using the best tested model 2"
      ],
      "metadata": {
        "id": "-olEDmC12vzz"
      }
    },
    {
      "cell_type": "code",
      "source": [
        "# predicting the image using the best tested model\n",
        "! wget https://cdn.pixabay.com/photo/2019/06/19/16/40/bridge-4285310_960_720.jpg -O image.jpg\n",
        "\n",
        "model = torch.load(\"best_fine_tuned_model.pth\")\n",
        "predict(model, 'image.jpg')"
      ],
      "metadata": {
        "id": "xs53Ghw1gf5-"
      },
      "execution_count": null,
      "outputs": []
    },
    {
      "cell_type": "code",
      "source": [],
      "metadata": {
        "id": "5odwFVL9ihf1"
      },
      "execution_count": null,
      "outputs": []
    }
  ],
  "metadata": {
    "accelerator": "GPU",
    "colab": {
      "provenance": [],
      "gpuType": "T4"
    },
    "kernelspec": {
      "display_name": "Python 3",
      "name": "python3"
    },
    "language_info": {
      "codemirror_mode": {
        "name": "ipython",
        "version": 3
      },
      "file_extension": ".py",
      "mimetype": "text/x-python",
      "name": "python",
      "nbconvert_exporter": "python",
      "pygments_lexer": "ipython3",
      "version": "3.9.16"
    }
  },
  "nbformat": 4,
  "nbformat_minor": 0
}